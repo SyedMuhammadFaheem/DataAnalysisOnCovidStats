{
 "cells": [
  {
   "cell_type": "markdown",
   "metadata": {},
   "source": [
    "# Importing Modules"
   ]
  },
  {
   "cell_type": "code",
   "execution_count": 1,
   "metadata": {},
   "outputs": [],
   "source": [
    "import pandas as pd\n",
    "import numpy as np\n",
    "import matplotlib.pyplot as plt\n",
    "%matplotlib inline\n",
    "from scipy.stats import shapiro\n",
    "from scipy.stats import normaltest\n",
    "from scipy.stats import jarque_bera\n",
    "from scipy import stats"
   ]
  },
  {
   "cell_type": "markdown",
   "metadata": {},
   "source": [
    "# Analysis:\n",
    "<br>\n",
    "<font size=3><b>1. Pandas: Used to deal with the manipulation and reading of .csv files. Also used for descriptive statistical        analysis of data.<br>\n",
    "2. Numpy: Faster method to manipulate lists and functioning with arrays.<br>\n",
    "3. Matplotlib: Used to implement different types of colorful graphs for better understanding of data.<br>\n",
    "4. Scipy: Used to implement different types of statistical analysis (used here to check normality of data)<br></b></font>"
   ]
  },
  {
   "cell_type": "markdown",
   "metadata": {},
   "source": [
    "# Importing Data from CSV file using Pandas"
   ]
  },
  {
   "cell_type": "code",
   "execution_count": 2,
   "metadata": {},
   "outputs": [
    {
     "data": {
      "text/html": [
       "<div>\n",
       "<style scoped>\n",
       "    .dataframe tbody tr th:only-of-type {\n",
       "        vertical-align: middle;\n",
       "    }\n",
       "\n",
       "    .dataframe tbody tr th {\n",
       "        vertical-align: top;\n",
       "    }\n",
       "\n",
       "    .dataframe thead th {\n",
       "        text-align: right;\n",
       "    }\n",
       "</style>\n",
       "<table border=\"1\" class=\"dataframe\">\n",
       "  <thead>\n",
       "    <tr style=\"text-align: right;\">\n",
       "      <th></th>\n",
       "      <th>date</th>\n",
       "      <th>total_cases</th>\n",
       "      <th>new_cases</th>\n",
       "      <th>total_deaths</th>\n",
       "      <th>new_deaths</th>\n",
       "      <th>reproduction_rate</th>\n",
       "      <th>total_tests</th>\n",
       "      <th>new_tests</th>\n",
       "      <th>positive_rate</th>\n",
       "      <th>tests_per_case</th>\n",
       "      <th>total_vaccinations</th>\n",
       "      <th>new_vaccinations</th>\n",
       "      <th>stringency_index</th>\n",
       "    </tr>\n",
       "  </thead>\n",
       "  <tbody>\n",
       "    <tr>\n",
       "      <th>731</th>\n",
       "      <td>25/02/2022</td>\n",
       "      <td>1507657</td>\n",
       "      <td>1207</td>\n",
       "      <td>30153</td>\n",
       "      <td>14</td>\n",
       "      <td>0.55</td>\n",
       "      <td>26299843.0</td>\n",
       "      <td>41142.0</td>\n",
       "      <td>0.0297</td>\n",
       "      <td>33.7</td>\n",
       "      <td>NaN</td>\n",
       "      <td>NaN</td>\n",
       "      <td>65.28</td>\n",
       "    </tr>\n",
       "    <tr>\n",
       "      <th>551</th>\n",
       "      <td>29/08/2021</td>\n",
       "      <td>1156281</td>\n",
       "      <td>3800</td>\n",
       "      <td>25670</td>\n",
       "      <td>66</td>\n",
       "      <td>0.98</td>\n",
       "      <td>17647941.0</td>\n",
       "      <td>62918.0</td>\n",
       "      <td>0.0675</td>\n",
       "      <td>14.8</td>\n",
       "      <td>53314628.0</td>\n",
       "      <td>NaN</td>\n",
       "      <td>68.52</td>\n",
       "    </tr>\n",
       "    <tr>\n",
       "      <th>280</th>\n",
       "      <td>01/12/2020</td>\n",
       "      <td>403311</td>\n",
       "      <td>2829</td>\n",
       "      <td>8166</td>\n",
       "      <td>75</td>\n",
       "      <td>1.10</td>\n",
       "      <td>5549779.0</td>\n",
       "      <td>40969.0</td>\n",
       "      <td>0.0695</td>\n",
       "      <td>14.4</td>\n",
       "      <td>0.0</td>\n",
       "      <td>0.0</td>\n",
       "      <td>64.35</td>\n",
       "    </tr>\n",
       "    <tr>\n",
       "      <th>273</th>\n",
       "      <td>24/11/2020</td>\n",
       "      <td>382892</td>\n",
       "      <td>3009</td>\n",
       "      <td>7803</td>\n",
       "      <td>59</td>\n",
       "      <td>1.21</td>\n",
       "      <td>5256120.0</td>\n",
       "      <td>39165.0</td>\n",
       "      <td>0.0707</td>\n",
       "      <td>14.2</td>\n",
       "      <td>0.0</td>\n",
       "      <td>0.0</td>\n",
       "      <td>58.80</td>\n",
       "    </tr>\n",
       "    <tr>\n",
       "      <th>156</th>\n",
       "      <td>30/07/2020</td>\n",
       "      <td>277402</td>\n",
       "      <td>1114</td>\n",
       "      <td>5924</td>\n",
       "      <td>32</td>\n",
       "      <td>0.67</td>\n",
       "      <td>1973237.0</td>\n",
       "      <td>20507.0</td>\n",
       "      <td>0.0403</td>\n",
       "      <td>24.8</td>\n",
       "      <td>0.0</td>\n",
       "      <td>0.0</td>\n",
       "      <td>66.67</td>\n",
       "    </tr>\n",
       "    <tr>\n",
       "      <th>644</th>\n",
       "      <td>30/11/2021</td>\n",
       "      <td>1285254</td>\n",
       "      <td>414</td>\n",
       "      <td>28737</td>\n",
       "      <td>9</td>\n",
       "      <td>1.01</td>\n",
       "      <td>21985775.0</td>\n",
       "      <td>NaN</td>\n",
       "      <td>0.0089</td>\n",
       "      <td>112.0</td>\n",
       "      <td>NaN</td>\n",
       "      <td>NaN</td>\n",
       "      <td>43.06</td>\n",
       "    </tr>\n",
       "    <tr>\n",
       "      <th>149</th>\n",
       "      <td>23/07/2020</td>\n",
       "      <td>270400</td>\n",
       "      <td>1209</td>\n",
       "      <td>5763</td>\n",
       "      <td>54</td>\n",
       "      <td>0.67</td>\n",
       "      <td>1799290.0</td>\n",
       "      <td>22408.0</td>\n",
       "      <td>0.0849</td>\n",
       "      <td>11.8</td>\n",
       "      <td>0.0</td>\n",
       "      <td>0.0</td>\n",
       "      <td>66.67</td>\n",
       "    </tr>\n",
       "    <tr>\n",
       "      <th>460</th>\n",
       "      <td>30/05/2021</td>\n",
       "      <td>921053</td>\n",
       "      <td>2117</td>\n",
       "      <td>20779</td>\n",
       "      <td>43</td>\n",
       "      <td>0.80</td>\n",
       "      <td>13169358.0</td>\n",
       "      <td>55965.0</td>\n",
       "      <td>0.0447</td>\n",
       "      <td>22.3</td>\n",
       "      <td>NaN</td>\n",
       "      <td>NaN</td>\n",
       "      <td>63.43</td>\n",
       "    </tr>\n",
       "    <tr>\n",
       "      <th>196</th>\n",
       "      <td>08/09/2020</td>\n",
       "      <td>299659</td>\n",
       "      <td>426</td>\n",
       "      <td>6359</td>\n",
       "      <td>9</td>\n",
       "      <td>1.01</td>\n",
       "      <td>2802210.0</td>\n",
       "      <td>23521.0</td>\n",
       "      <td>0.0219</td>\n",
       "      <td>45.6</td>\n",
       "      <td>0.0</td>\n",
       "      <td>0.0</td>\n",
       "      <td>47.69</td>\n",
       "    </tr>\n",
       "    <tr>\n",
       "      <th>542</th>\n",
       "      <td>20/08/2021</td>\n",
       "      <td>1119970</td>\n",
       "      <td>3084</td>\n",
       "      <td>24848</td>\n",
       "      <td>65</td>\n",
       "      <td>0.96</td>\n",
       "      <td>17115272.0</td>\n",
       "      <td>51982.0</td>\n",
       "      <td>0.0665</td>\n",
       "      <td>15.0</td>\n",
       "      <td>45540221.0</td>\n",
       "      <td>NaN</td>\n",
       "      <td>68.52</td>\n",
       "    </tr>\n",
       "    <tr>\n",
       "      <th>765</th>\n",
       "      <td>31/03/2022</td>\n",
       "      <td>1524973</td>\n",
       "      <td>180</td>\n",
       "      <td>30359</td>\n",
       "      <td>4</td>\n",
       "      <td>0.67</td>\n",
       "      <td>NaN</td>\n",
       "      <td>NaN</td>\n",
       "      <td>0.0076</td>\n",
       "      <td>131.1</td>\n",
       "      <td>237931825.0</td>\n",
       "      <td>NaN</td>\n",
       "      <td>70.37</td>\n",
       "    </tr>\n",
       "    <tr>\n",
       "      <th>705</th>\n",
       "      <td>30/01/2022</td>\n",
       "      <td>1425039</td>\n",
       "      <td>7048</td>\n",
       "      <td>29269</td>\n",
       "      <td>21</td>\n",
       "      <td>1.11</td>\n",
       "      <td>24957306.0</td>\n",
       "      <td>NaN</td>\n",
       "      <td>0.1184</td>\n",
       "      <td>8.4</td>\n",
       "      <td>NaN</td>\n",
       "      <td>NaN</td>\n",
       "      <td>65.28</td>\n",
       "    </tr>\n",
       "    <tr>\n",
       "      <th>432</th>\n",
       "      <td>02/05/2021</td>\n",
       "      <td>834146</td>\n",
       "      <td>4213</td>\n",
       "      <td>18149</td>\n",
       "      <td>79</td>\n",
       "      <td>0.88</td>\n",
       "      <td>11882141.0</td>\n",
       "      <td>45275.0</td>\n",
       "      <td>0.0981</td>\n",
       "      <td>10.2</td>\n",
       "      <td>NaN</td>\n",
       "      <td>0.0</td>\n",
       "      <td>78.24</td>\n",
       "    </tr>\n",
       "    <tr>\n",
       "      <th>436</th>\n",
       "      <td>06/05/2021</td>\n",
       "      <td>850131</td>\n",
       "      <td>8495</td>\n",
       "      <td>18677</td>\n",
       "      <td>248</td>\n",
       "      <td>0.92</td>\n",
       "      <td>12056986.0</td>\n",
       "      <td>46467.0</td>\n",
       "      <td>0.0922</td>\n",
       "      <td>10.8</td>\n",
       "      <td>3320304.0</td>\n",
       "      <td>170182.0</td>\n",
       "      <td>78.24</td>\n",
       "    </tr>\n",
       "    <tr>\n",
       "      <th>773</th>\n",
       "      <td>08/04/2022</td>\n",
       "      <td>1526472</td>\n",
       "      <td>238</td>\n",
       "      <td>30361</td>\n",
       "      <td>0</td>\n",
       "      <td>0.66</td>\n",
       "      <td>27689870.0</td>\n",
       "      <td>NaN</td>\n",
       "      <td>0.0069</td>\n",
       "      <td>145.6</td>\n",
       "      <td>NaN</td>\n",
       "      <td>NaN</td>\n",
       "      <td>70.37</td>\n",
       "    </tr>\n",
       "  </tbody>\n",
       "</table>\n",
       "</div>"
      ],
      "text/plain": [
       "           date  total_cases  new_cases  total_deaths  new_deaths  \\\n",
       "731  25/02/2022      1507657       1207         30153          14   \n",
       "551  29/08/2021      1156281       3800         25670          66   \n",
       "280  01/12/2020       403311       2829          8166          75   \n",
       "273  24/11/2020       382892       3009          7803          59   \n",
       "156  30/07/2020       277402       1114          5924          32   \n",
       "644  30/11/2021      1285254        414         28737           9   \n",
       "149  23/07/2020       270400       1209          5763          54   \n",
       "460  30/05/2021       921053       2117         20779          43   \n",
       "196  08/09/2020       299659        426          6359           9   \n",
       "542  20/08/2021      1119970       3084         24848          65   \n",
       "765  31/03/2022      1524973        180         30359           4   \n",
       "705  30/01/2022      1425039       7048         29269          21   \n",
       "432  02/05/2021       834146       4213         18149          79   \n",
       "436  06/05/2021       850131       8495         18677         248   \n",
       "773  08/04/2022      1526472        238         30361           0   \n",
       "\n",
       "     reproduction_rate  total_tests  new_tests  positive_rate  tests_per_case  \\\n",
       "731               0.55   26299843.0    41142.0         0.0297            33.7   \n",
       "551               0.98   17647941.0    62918.0         0.0675            14.8   \n",
       "280               1.10    5549779.0    40969.0         0.0695            14.4   \n",
       "273               1.21    5256120.0    39165.0         0.0707            14.2   \n",
       "156               0.67    1973237.0    20507.0         0.0403            24.8   \n",
       "644               1.01   21985775.0        NaN         0.0089           112.0   \n",
       "149               0.67    1799290.0    22408.0         0.0849            11.8   \n",
       "460               0.80   13169358.0    55965.0         0.0447            22.3   \n",
       "196               1.01    2802210.0    23521.0         0.0219            45.6   \n",
       "542               0.96   17115272.0    51982.0         0.0665            15.0   \n",
       "765               0.67          NaN        NaN         0.0076           131.1   \n",
       "705               1.11   24957306.0        NaN         0.1184             8.4   \n",
       "432               0.88   11882141.0    45275.0         0.0981            10.2   \n",
       "436               0.92   12056986.0    46467.0         0.0922            10.8   \n",
       "773               0.66   27689870.0        NaN         0.0069           145.6   \n",
       "\n",
       "     total_vaccinations  new_vaccinations  stringency_index  \n",
       "731                 NaN               NaN             65.28  \n",
       "551          53314628.0               NaN             68.52  \n",
       "280                 0.0               0.0             64.35  \n",
       "273                 0.0               0.0             58.80  \n",
       "156                 0.0               0.0             66.67  \n",
       "644                 NaN               NaN             43.06  \n",
       "149                 0.0               0.0             66.67  \n",
       "460                 NaN               NaN             63.43  \n",
       "196                 0.0               0.0             47.69  \n",
       "542          45540221.0               NaN             68.52  \n",
       "765         237931825.0               NaN             70.37  \n",
       "705                 NaN               NaN             65.28  \n",
       "432                 NaN               0.0             78.24  \n",
       "436           3320304.0          170182.0             78.24  \n",
       "773                 NaN               NaN             70.37  "
      ]
     },
     "execution_count": 2,
     "metadata": {},
     "output_type": "execute_result"
    }
   ],
   "source": [
    "df = pd.read_csv(\"Covid_Stats.csv\")\n",
    "df.sample(15)"
   ]
  },
  {
   "cell_type": "markdown",
   "metadata": {},
   "source": [
    "# Analysis:\n",
    "<br><font size=3>We have taken the dataset of related to COVID-19. This dataset has 797 rows and 13 columns consisting of COVID data in past two years i.e 2020 until present. In the columns we have the number of total cases (the total cases of COVID that are reported), new cases (as the cases kept on increasing so in this column we have the new cases that are being reported), total and new deaths, reproduction rate, total tests (cumulative number of tests), new test, positive rate (tests that resulted in positive), tests per case, total vaccinations(cumulative number of vaccines), new vaccinations and stringency index (the stringency index is a composite measure based on nine metrics which are school closures, workplace closures, cancellation of public events, restrictions on public gatherings, closure of public transport, stay at home requirements, public information campaigns, restrictions on internal movements and international travel controls).</font>\n"
   ]
  },
  {
   "cell_type": "markdown",
   "metadata": {},
   "source": [
    "# Removing NaN values and displaying Data Sample "
   ]
  },
  {
   "cell_type": "code",
   "execution_count": 3,
   "metadata": {},
   "outputs": [
    {
     "data": {
      "text/html": [
       "<div>\n",
       "<style scoped>\n",
       "    .dataframe tbody tr th:only-of-type {\n",
       "        vertical-align: middle;\n",
       "    }\n",
       "\n",
       "    .dataframe tbody tr th {\n",
       "        vertical-align: top;\n",
       "    }\n",
       "\n",
       "    .dataframe thead th {\n",
       "        text-align: right;\n",
       "    }\n",
       "</style>\n",
       "<table border=\"1\" class=\"dataframe\">\n",
       "  <thead>\n",
       "    <tr style=\"text-align: right;\">\n",
       "      <th></th>\n",
       "      <th>date</th>\n",
       "      <th>total_cases</th>\n",
       "      <th>new_cases</th>\n",
       "      <th>total_deaths</th>\n",
       "      <th>new_deaths</th>\n",
       "      <th>reproduction_rate</th>\n",
       "      <th>total_tests</th>\n",
       "      <th>new_tests</th>\n",
       "      <th>positive_rate</th>\n",
       "      <th>tests_per_case</th>\n",
       "      <th>total_vaccinations</th>\n",
       "      <th>new_vaccinations</th>\n",
       "      <th>stringency_index</th>\n",
       "    </tr>\n",
       "  </thead>\n",
       "  <tbody>\n",
       "    <tr>\n",
       "      <th>688</th>\n",
       "      <td>13/01/2022</td>\n",
       "      <td>1315834</td>\n",
       "      <td>3567</td>\n",
       "      <td>28999</td>\n",
       "      <td>7</td>\n",
       "      <td>1.91</td>\n",
       "      <td>23984502.0</td>\n",
       "      <td>49270.0</td>\n",
       "      <td>0.0446</td>\n",
       "      <td>22.4</td>\n",
       "      <td>166083807.0</td>\n",
       "      <td>786835.0</td>\n",
       "      <td>54.17</td>\n",
       "    </tr>\n",
       "    <tr>\n",
       "      <th>161</th>\n",
       "      <td>04/08/2020</td>\n",
       "      <td>280461</td>\n",
       "      <td>0</td>\n",
       "      <td>5999</td>\n",
       "      <td>0</td>\n",
       "      <td>0.69</td>\n",
       "      <td>2043870.0</td>\n",
       "      <td>11915.0</td>\n",
       "      <td>0.0464</td>\n",
       "      <td>21.5</td>\n",
       "      <td>0.0</td>\n",
       "      <td>0.0</td>\n",
       "      <td>66.67</td>\n",
       "    </tr>\n",
       "    <tr>\n",
       "      <th>342</th>\n",
       "      <td>01/02/2021</td>\n",
       "      <td>547648</td>\n",
       "      <td>1220</td>\n",
       "      <td>11746</td>\n",
       "      <td>63</td>\n",
       "      <td>0.86</td>\n",
       "      <td>7966981.0</td>\n",
       "      <td>34785.0</td>\n",
       "      <td>0.0409</td>\n",
       "      <td>24.4</td>\n",
       "      <td>0.0</td>\n",
       "      <td>0.0</td>\n",
       "      <td>50.46</td>\n",
       "    </tr>\n",
       "    <tr>\n",
       "      <th>70</th>\n",
       "      <td>05/05/2020</td>\n",
       "      <td>24073</td>\n",
       "      <td>2024</td>\n",
       "      <td>564</td>\n",
       "      <td>50</td>\n",
       "      <td>1.38</td>\n",
       "      <td>222404.0</td>\n",
       "      <td>9893.0</td>\n",
       "      <td>0.1311</td>\n",
       "      <td>7.6</td>\n",
       "      <td>0.0</td>\n",
       "      <td>0.0</td>\n",
       "      <td>89.81</td>\n",
       "    </tr>\n",
       "    <tr>\n",
       "      <th>256</th>\n",
       "      <td>07/11/2020</td>\n",
       "      <td>343189</td>\n",
       "      <td>1436</td>\n",
       "      <td>6968</td>\n",
       "      <td>25</td>\n",
       "      <td>1.34</td>\n",
       "      <td>4643913.0</td>\n",
       "      <td>34400.0</td>\n",
       "      <td>0.0433</td>\n",
       "      <td>23.1</td>\n",
       "      <td>0.0</td>\n",
       "      <td>0.0</td>\n",
       "      <td>53.24</td>\n",
       "    </tr>\n",
       "    <tr>\n",
       "      <th>44</th>\n",
       "      <td>09/04/2020</td>\n",
       "      <td>4695</td>\n",
       "      <td>206</td>\n",
       "      <td>66</td>\n",
       "      <td>1</td>\n",
       "      <td>1.35</td>\n",
       "      <td>54706.0</td>\n",
       "      <td>9810.0</td>\n",
       "      <td>0.0824</td>\n",
       "      <td>12.1</td>\n",
       "      <td>0.0</td>\n",
       "      <td>0.0</td>\n",
       "      <td>96.30</td>\n",
       "    </tr>\n",
       "    <tr>\n",
       "      <th>336</th>\n",
       "      <td>26/01/2021</td>\n",
       "      <td>537477</td>\n",
       "      <td>1563</td>\n",
       "      <td>11450</td>\n",
       "      <td>74</td>\n",
       "      <td>0.88</td>\n",
       "      <td>7722829.0</td>\n",
       "      <td>42587.0</td>\n",
       "      <td>0.0452</td>\n",
       "      <td>22.1</td>\n",
       "      <td>0.0</td>\n",
       "      <td>0.0</td>\n",
       "      <td>57.87</td>\n",
       "    </tr>\n",
       "    <tr>\n",
       "      <th>101</th>\n",
       "      <td>05/06/2020</td>\n",
       "      <td>93983</td>\n",
       "      <td>4734</td>\n",
       "      <td>1935</td>\n",
       "      <td>97</td>\n",
       "      <td>1.40</td>\n",
       "      <td>638323.0</td>\n",
       "      <td>22812.0</td>\n",
       "      <td>0.2327</td>\n",
       "      <td>4.3</td>\n",
       "      <td>0.0</td>\n",
       "      <td>0.0</td>\n",
       "      <td>69.44</td>\n",
       "    </tr>\n",
       "    <tr>\n",
       "      <th>110</th>\n",
       "      <td>14/06/2020</td>\n",
       "      <td>144478</td>\n",
       "      <td>12073</td>\n",
       "      <td>2729</td>\n",
       "      <td>178</td>\n",
       "      <td>1.26</td>\n",
       "      <td>868565.0</td>\n",
       "      <td>29546.0</td>\n",
       "      <td>0.2206</td>\n",
       "      <td>4.5</td>\n",
       "      <td>0.0</td>\n",
       "      <td>0.0</td>\n",
       "      <td>61.11</td>\n",
       "    </tr>\n",
       "    <tr>\n",
       "      <th>285</th>\n",
       "      <td>06/12/2020</td>\n",
       "      <td>420294</td>\n",
       "      <td>3795</td>\n",
       "      <td>8398</td>\n",
       "      <td>37</td>\n",
       "      <td>1.07</td>\n",
       "      <td>5754986.0</td>\n",
       "      <td>41645.0</td>\n",
       "      <td>0.0797</td>\n",
       "      <td>12.5</td>\n",
       "      <td>0.0</td>\n",
       "      <td>0.0</td>\n",
       "      <td>64.35</td>\n",
       "    </tr>\n",
       "    <tr>\n",
       "      <th>328</th>\n",
       "      <td>18/01/2021</td>\n",
       "      <td>523011</td>\n",
       "      <td>1800</td>\n",
       "      <td>11055</td>\n",
       "      <td>58</td>\n",
       "      <td>0.93</td>\n",
       "      <td>7405571.0</td>\n",
       "      <td>37949.0</td>\n",
       "      <td>0.0576</td>\n",
       "      <td>17.4</td>\n",
       "      <td>0.0</td>\n",
       "      <td>0.0</td>\n",
       "      <td>60.65</td>\n",
       "    </tr>\n",
       "    <tr>\n",
       "      <th>13</th>\n",
       "      <td>09/03/2020</td>\n",
       "      <td>16</td>\n",
       "      <td>10</td>\n",
       "      <td>0</td>\n",
       "      <td>0</td>\n",
       "      <td>0.00</td>\n",
       "      <td>0.0</td>\n",
       "      <td>0.0</td>\n",
       "      <td>0.0000</td>\n",
       "      <td>0.0</td>\n",
       "      <td>0.0</td>\n",
       "      <td>0.0</td>\n",
       "      <td>28.70</td>\n",
       "    </tr>\n",
       "    <tr>\n",
       "      <th>287</th>\n",
       "      <td>08/12/2020</td>\n",
       "      <td>426142</td>\n",
       "      <td>2963</td>\n",
       "      <td>8547</td>\n",
       "      <td>60</td>\n",
       "      <td>1.02</td>\n",
       "      <td>5827852.0</td>\n",
       "      <td>33610.0</td>\n",
       "      <td>0.0821</td>\n",
       "      <td>12.2</td>\n",
       "      <td>0.0</td>\n",
       "      <td>0.0</td>\n",
       "      <td>64.35</td>\n",
       "    </tr>\n",
       "    <tr>\n",
       "      <th>633</th>\n",
       "      <td>19/11/2021</td>\n",
       "      <td>1281559</td>\n",
       "      <td>319</td>\n",
       "      <td>28655</td>\n",
       "      <td>7</td>\n",
       "      <td>0.87</td>\n",
       "      <td>21565738.0</td>\n",
       "      <td>40141.0</td>\n",
       "      <td>0.0089</td>\n",
       "      <td>112.9</td>\n",
       "      <td>120448598.0</td>\n",
       "      <td>215019.0</td>\n",
       "      <td>44.91</td>\n",
       "    </tr>\n",
       "    <tr>\n",
       "      <th>260</th>\n",
       "      <td>11/11/2020</td>\n",
       "      <td>349992</td>\n",
       "      <td>1808</td>\n",
       "      <td>7055</td>\n",
       "      <td>34</td>\n",
       "      <td>1.34</td>\n",
       "      <td>4773496.0</td>\n",
       "      <td>31989.0</td>\n",
       "      <td>0.0479</td>\n",
       "      <td>20.9</td>\n",
       "      <td>0.0</td>\n",
       "      <td>0.0</td>\n",
       "      <td>47.69</td>\n",
       "    </tr>\n",
       "  </tbody>\n",
       "</table>\n",
       "</div>"
      ],
      "text/plain": [
       "           date  total_cases  new_cases  total_deaths  new_deaths  \\\n",
       "688  13/01/2022      1315834       3567         28999           7   \n",
       "161  04/08/2020       280461          0          5999           0   \n",
       "342  01/02/2021       547648       1220         11746          63   \n",
       "70   05/05/2020        24073       2024           564          50   \n",
       "256  07/11/2020       343189       1436          6968          25   \n",
       "44   09/04/2020         4695        206            66           1   \n",
       "336  26/01/2021       537477       1563         11450          74   \n",
       "101  05/06/2020        93983       4734          1935          97   \n",
       "110  14/06/2020       144478      12073          2729         178   \n",
       "285  06/12/2020       420294       3795          8398          37   \n",
       "328  18/01/2021       523011       1800         11055          58   \n",
       "13   09/03/2020           16         10             0           0   \n",
       "287  08/12/2020       426142       2963          8547          60   \n",
       "633  19/11/2021      1281559        319         28655           7   \n",
       "260  11/11/2020       349992       1808          7055          34   \n",
       "\n",
       "     reproduction_rate  total_tests  new_tests  positive_rate  tests_per_case  \\\n",
       "688               1.91   23984502.0    49270.0         0.0446            22.4   \n",
       "161               0.69    2043870.0    11915.0         0.0464            21.5   \n",
       "342               0.86    7966981.0    34785.0         0.0409            24.4   \n",
       "70                1.38     222404.0     9893.0         0.1311             7.6   \n",
       "256               1.34    4643913.0    34400.0         0.0433            23.1   \n",
       "44                1.35      54706.0     9810.0         0.0824            12.1   \n",
       "336               0.88    7722829.0    42587.0         0.0452            22.1   \n",
       "101               1.40     638323.0    22812.0         0.2327             4.3   \n",
       "110               1.26     868565.0    29546.0         0.2206             4.5   \n",
       "285               1.07    5754986.0    41645.0         0.0797            12.5   \n",
       "328               0.93    7405571.0    37949.0         0.0576            17.4   \n",
       "13                0.00          0.0        0.0         0.0000             0.0   \n",
       "287               1.02    5827852.0    33610.0         0.0821            12.2   \n",
       "633               0.87   21565738.0    40141.0         0.0089           112.9   \n",
       "260               1.34    4773496.0    31989.0         0.0479            20.9   \n",
       "\n",
       "     total_vaccinations  new_vaccinations  stringency_index  \n",
       "688         166083807.0          786835.0             54.17  \n",
       "161                 0.0               0.0             66.67  \n",
       "342                 0.0               0.0             50.46  \n",
       "70                  0.0               0.0             89.81  \n",
       "256                 0.0               0.0             53.24  \n",
       "44                  0.0               0.0             96.30  \n",
       "336                 0.0               0.0             57.87  \n",
       "101                 0.0               0.0             69.44  \n",
       "110                 0.0               0.0             61.11  \n",
       "285                 0.0               0.0             64.35  \n",
       "328                 0.0               0.0             60.65  \n",
       "13                  0.0               0.0             28.70  \n",
       "287                 0.0               0.0             64.35  \n",
       "633         120448598.0          215019.0             44.91  \n",
       "260                 0.0               0.0             47.69  "
      ]
     },
     "execution_count": 3,
     "metadata": {},
     "output_type": "execute_result"
    }
   ],
   "source": [
    "df = df.replace('',np.nan)\n",
    "df = df.dropna(axis=\"rows\")\n",
    "df.sample(15)"
   ]
  },
  {
   "cell_type": "markdown",
   "metadata": {},
   "source": [
    "# Analysis:\n",
    "<br>\n",
    "<font size=3>\n",
    "There are some NaN values in our dataset, NaN values are the values, which are empty boxes or in more simple words they are the values which can’t be read by python commands so due to this bar chart won’t be constructed as there will be thrown an error. So in order to increase accuracy we removed the NaN values from the dataset.</font>"
   ]
  },
  {
   "cell_type": "markdown",
   "metadata": {},
   "source": [
    "# Linear Regression Model between New Cases and Deaths\n",
    "\n",
    "<br>\n",
    "<font size=3>Linear regression is an attempt to model the relationship between two variables by fitting a linear equation to observed data, where one variable is considered to be an explanatory variable and the other as a dependent variable.</font>"
   ]
  },
  {
   "cell_type": "code",
   "execution_count": 4,
   "metadata": {},
   "outputs": [
    {
     "data": {
      "image/png": "[encoded data removed]",
      "text/plain": [
       "<Figure size 432x288 with 1 Axes>"
      ]
     },
     "metadata": {
      "needs_background": "light"
     },
     "output_type": "display_data"
    }
   ],
   "source": [
    "NewCases = df['new_cases']\n",
    "NewDeaths = df['new_deaths']\n",
    "slope, intercept, r, p, std_err = stats.linregress(NewCases, NewDeaths)\n",
    "\n",
    "def myfunc(NewCases):\n",
    "  return slope * NewCases + intercept\n",
    "\n",
    "mymodel = list((map(myfunc, NewCases)))\n",
    "\n",
    "plt.scatter(NewCases,NewDeaths,color='yellow')\n",
    "plt.plot(NewCases,mymodel,color='red',linestyle='--')\n",
    "plt.xlabel('New Cases')\n",
    "plt.ylabel('New Deaths')\n",
    "plt.show()\n"
   ]
  },
  {
   "cell_type": "markdown",
   "metadata": {},
   "source": [
    "# Analysis:\n",
    "\n",
    "<br>\n",
    "<font size=3>In our dataset we have applied linear regressions between new cases and new deaths where new cases is our explanatory variable and new deaths is our dependent variable. In the model below we can see that the prediction line (i.e the red line) shows the direction of the data and let us to predict that at particular number of cases what will be the number of deaths.<br>In the below model we can see that the yellow dots are showing the actual data which exists but in case we have no data on particular point then we can use the prediction line and can predict the number of deaths with respect to particular number of cases. This model is useful because we can’t have a count of deaths due to the population of the world is 7.2 billion and how many people are dying at every new case discovered.</font>"
   ]
  },
  {
   "cell_type": "markdown",
   "metadata": {},
   "source": [
    "# Linear Regression Model between Total Cases and Deaths"
   ]
  },
  {
   "cell_type": "code",
   "execution_count": 5,
   "metadata": {
    "scrolled": true
   },
   "outputs": [
    {
     "data": {
      "image/png": "[encoded data removed]",
      "text/plain": [
       "<Figure size 432x288 with 1 Axes>"
      ]
     },
     "metadata": {
      "needs_background": "light"
     },
     "output_type": "display_data"
    }
   ],
   "source": [
    "TotalCases = df['total_cases']\n",
    "TotalDeaths = df['total_deaths']\n",
    "slope, intercept, r, p, std_err = stats.linregress(TotalCases, TotalDeaths)\n",
    "\n",
    "def myfunc(TotalCases):\n",
    "  return slope * TotalCases + intercept\n",
    "\n",
    "mymodel = list(map(myfunc, TotalCases))\n",
    "plt.scatter(TotalCases,TotalDeaths,color='yellow')\n",
    "plt.plot(TotalCases,mymodel,color='red',linestyle='--')\n",
    "plt.xlabel('Total Cases')\n",
    "plt.ylabel('Total Deaths')\n",
    "plt.show()"
   ]
  },
  {
   "cell_type": "markdown",
   "metadata": {},
   "source": [
    "# Analysis:\n",
    "\n",
    "<br>\n",
    "<font size=3>As discussed above about linear regression here we are taking total deaths as dependent variable while the total cases are explanatory variable. This model is about commutative data which takes the total of the previous data and then predict the total deaths over the total cases reported until a particular date therefore we can see the dots of the data in a particular rhythm with the prediction line but this does not mean that the whole data is normal because we are dealing with two columns only moreover if wee see in the above model it is clear that the data is scattered. </font>"
   ]
  },
  {
   "cell_type": "markdown",
   "metadata": {},
   "source": [
    "# Descriptive Statistics"
   ]
  },
  {
   "cell_type": "code",
   "execution_count": 6,
   "metadata": {},
   "outputs": [
    {
     "data": {
      "text/html": [
       "<div>\n",
       "<style scoped>\n",
       "    .dataframe tbody tr th:only-of-type {\n",
       "        vertical-align: middle;\n",
       "    }\n",
       "\n",
       "    .dataframe tbody tr th {\n",
       "        vertical-align: top;\n",
       "    }\n",
       "\n",
       "    .dataframe thead th {\n",
       "        text-align: right;\n",
       "    }\n",
       "</style>\n",
       "<table border=\"1\" class=\"dataframe\">\n",
       "  <thead>\n",
       "    <tr style=\"text-align: right;\">\n",
       "      <th></th>\n",
       "      <th>total_cases</th>\n",
       "      <th>new_cases</th>\n",
       "      <th>total_deaths</th>\n",
       "      <th>new_deaths</th>\n",
       "      <th>reproduction_rate</th>\n",
       "      <th>total_tests</th>\n",
       "      <th>new_tests</th>\n",
       "      <th>positive_rate</th>\n",
       "      <th>tests_per_case</th>\n",
       "      <th>total_vaccinations</th>\n",
       "      <th>new_vaccinations</th>\n",
       "      <th>stringency_index</th>\n",
       "    </tr>\n",
       "  </thead>\n",
       "  <tbody>\n",
       "    <tr>\n",
       "      <th>count</th>\n",
       "      <td>7.960000e+02</td>\n",
       "      <td>796.000000</td>\n",
       "      <td>796.000000</td>\n",
       "      <td>796.000000</td>\n",
       "      <td>791.000000</td>\n",
       "      <td>6.810000e+02</td>\n",
       "      <td>619.000000</td>\n",
       "      <td>790.000000</td>\n",
       "      <td>790.000000</td>\n",
       "      <td>5.380000e+02</td>\n",
       "      <td>5.430000e+02</td>\n",
       "      <td>776.000000</td>\n",
       "    </tr>\n",
       "    <tr>\n",
       "      <th>mean</th>\n",
       "      <td>7.422330e+05</td>\n",
       "      <td>1919.542714</td>\n",
       "      <td>15987.468593</td>\n",
       "      <td>38.152010</td>\n",
       "      <td>1.002958</td>\n",
       "      <td>1.013747e+07</td>\n",
       "      <td>34050.303716</td>\n",
       "      <td>0.058558</td>\n",
       "      <td>36.942532</td>\n",
       "      <td>3.777594e+07</td>\n",
       "      <td>1.657756e+05</td>\n",
       "      <td>61.358054</td>\n",
       "    </tr>\n",
       "    <tr>\n",
       "      <th>std</th>\n",
       "      <td>5.036871e+05</td>\n",
       "      <td>1771.066460</td>\n",
       "      <td>10786.743411</td>\n",
       "      <td>38.099053</td>\n",
       "      <td>0.336141</td>\n",
       "      <td>8.549553e+06</td>\n",
       "      <td>16151.233291</td>\n",
       "      <td>0.049403</td>\n",
       "      <td>43.586911</td>\n",
       "      <td>6.889443e+07</td>\n",
       "      <td>4.102917e+05</td>\n",
       "      <td>13.615149</td>\n",
       "    </tr>\n",
       "    <tr>\n",
       "      <th>min</th>\n",
       "      <td>2.000000e+00</td>\n",
       "      <td>0.000000</td>\n",
       "      <td>0.000000</td>\n",
       "      <td>0.000000</td>\n",
       "      <td>0.000000</td>\n",
       "      <td>0.000000e+00</td>\n",
       "      <td>0.000000</td>\n",
       "      <td>0.000000</td>\n",
       "      <td>0.000000</td>\n",
       "      <td>0.000000e+00</td>\n",
       "      <td>0.000000e+00</td>\n",
       "      <td>19.440000</td>\n",
       "    </tr>\n",
       "    <tr>\n",
       "      <th>25%</th>\n",
       "      <td>3.008090e+05</td>\n",
       "      <td>544.500000</td>\n",
       "      <td>6372.250000</td>\n",
       "      <td>7.000000</td>\n",
       "      <td>0.810000</td>\n",
       "      <td>2.277153e+06</td>\n",
       "      <td>23462.000000</td>\n",
       "      <td>0.020100</td>\n",
       "      <td>11.700000</td>\n",
       "      <td>0.000000e+00</td>\n",
       "      <td>0.000000e+00</td>\n",
       "      <td>50.460000</td>\n",
       "    </tr>\n",
       "    <tr>\n",
       "      <th>50%</th>\n",
       "      <td>6.611580e+05</td>\n",
       "      <td>1358.000000</td>\n",
       "      <td>14306.000000</td>\n",
       "      <td>28.000000</td>\n",
       "      <td>0.970000</td>\n",
       "      <td>8.041254e+06</td>\n",
       "      <td>37206.000000</td>\n",
       "      <td>0.046600</td>\n",
       "      <td>19.650000</td>\n",
       "      <td>0.000000e+00</td>\n",
       "      <td>0.000000e+00</td>\n",
       "      <td>63.430000</td>\n",
       "    </tr>\n",
       "    <tr>\n",
       "      <th>75%</th>\n",
       "      <td>1.261956e+06</td>\n",
       "      <td>2933.250000</td>\n",
       "      <td>28207.750000</td>\n",
       "      <td>59.000000</td>\n",
       "      <td>1.205000</td>\n",
       "      <td>1.752028e+07</td>\n",
       "      <td>45790.000000</td>\n",
       "      <td>0.081575</td>\n",
       "      <td>46.150000</td>\n",
       "      <td>4.199700e+07</td>\n",
       "      <td>0.000000e+00</td>\n",
       "      <td>68.520000</td>\n",
       "    </tr>\n",
       "    <tr>\n",
       "      <th>max</th>\n",
       "      <td>1.527956e+06</td>\n",
       "      <td>12073.000000</td>\n",
       "      <td>30369.000000</td>\n",
       "      <td>313.000000</td>\n",
       "      <td>2.650000</td>\n",
       "      <td>2.806695e+07</td>\n",
       "      <td>68002.000000</td>\n",
       "      <td>0.256200</td>\n",
       "      <td>307.800000</td>\n",
       "      <td>2.461811e+08</td>\n",
       "      <td>2.339218e+06</td>\n",
       "      <td>96.300000</td>\n",
       "    </tr>\n",
       "  </tbody>\n",
       "</table>\n",
       "</div>"
      ],
      "text/plain": [
       "        total_cases     new_cases  total_deaths  new_deaths  \\\n",
       "count  7.960000e+02    796.000000    796.000000  796.000000   \n",
       "mean   7.422330e+05   1919.542714  15987.468593   38.152010   \n",
       "std    5.036871e+05   1771.066460  10786.743411   38.099053   \n",
       "min    2.000000e+00      0.000000      0.000000    0.000000   \n",
       "25%    3.008090e+05    544.500000   6372.250000    7.000000   \n",
       "50%    6.611580e+05   1358.000000  14306.000000   28.000000   \n",
       "75%    1.261956e+06   2933.250000  28207.750000   59.000000   \n",
       "max    1.527956e+06  12073.000000  30369.000000  313.000000   \n",
       "\n",
       "       reproduction_rate   total_tests     new_tests  positive_rate  \\\n",
       "count         791.000000  6.810000e+02    619.000000     790.000000   \n",
       "mean            1.002958  1.013747e+07  34050.303716       0.058558   \n",
       "std             0.336141  8.549553e+06  16151.233291       0.049403   \n",
       "min             0.000000  0.000000e+00      0.000000       0.000000   \n",
       "25%             0.810000  2.277153e+06  23462.000000       0.020100   \n",
       "50%             0.970000  8.041254e+06  37206.000000       0.046600   \n",
       "75%             1.205000  1.752028e+07  45790.000000       0.081575   \n",
       "max             2.650000  2.806695e+07  68002.000000       0.256200   \n",
       "\n",
       "       tests_per_case  total_vaccinations  new_vaccinations  stringency_index  \n",
       "count      790.000000        5.380000e+02      5.430000e+02        776.000000  \n",
       "mean        36.942532        3.777594e+07      1.657756e+05         61.358054  \n",
       "std         43.586911        6.889443e+07      4.102917e+05         13.615149  \n",
       "min          0.000000        0.000000e+00      0.000000e+00         19.440000  \n",
       "25%         11.700000        0.000000e+00      0.000000e+00         50.460000  \n",
       "50%         19.650000        0.000000e+00      0.000000e+00         63.430000  \n",
       "75%         46.150000        4.199700e+07      0.000000e+00         68.520000  \n",
       "max        307.800000        2.461811e+08      2.339218e+06         96.300000  "
      ]
     },
     "execution_count": 6,
     "metadata": {},
     "output_type": "execute_result"
    }
   ],
   "source": [
    "df = pd.read_csv(\"Covid_Stats.csv\")\n",
    "df.describe()"
   ]
  },
  {
   "cell_type": "markdown",
   "metadata": {},
   "source": [
    "# Analysis:\n",
    "\n",
    "### Mean:\n",
    "<br><font size=3>As mean gives the average value from the data, we also calculated the mean of different variables from our dataset that gave us the average of deaths, positive cases, new cases etc.</font>\n",
    "### Standard Deviation:\n",
    "<br><font size=3>Standard deviation is a measure of how dispersed the data is in relation to the mean. In our dataset for some columns as total cases, new cases and total deaths standard deviation is less than mean which tells that the data is clustered around the mean and for total tests, tests per case and total vaccinations standard deviation is greater which means that the data is spread out.</font>\n",
    "### Minimum:\n",
    "<br><font size=3>Min gives the minimum value and in total cases minimum value is 2 which most probably be at the time of start of the COVID but there is also a chance that this was at the end of COVID.</font>\n",
    "### 25%:\n",
    "<br><font size=3>From minimum to 25% there was a slight increase in the total cases, reproduction rate and positive rate and no change in total vaccinations. But there is a visible and high increase in new cases, total deaths, new deaths, total tests, new tests and tests per case.</font>\n",
    "### 50%:\n",
    "<br><font size=3>As from 25% to 50% it can be clearly seen that the total cases increased twice while the new cases, total deaths, new deaths, total tests etc. increased as a higher rate as compared to the total cases in fact every variable increased except the vaccinations also there was no visible difference in reproduction rate.</font>\n",
    "### 75%:\n",
    "<br><font size=3>But from 50% to 75% the total cases decreased at a much faster rate almost 6 times. New cases, total deaths and new deaths increased. Total tests decreased at a higher rate, there was no observational change in positive rates. There’s a visible increase in total vaccinations.<br><br>\n",
    "From 75% to max total cases and positive rate almost did not change but only a minimal increase, but new cases, total deaths, new deaths reproduction rate, total tests, new tests and tests per case increased.  The only thing which decreased was the total vaccinations which decreased twice.\n",
    "</font>"
   ]
  },
  {
   "cell_type": "markdown",
   "metadata": {},
   "source": [
    "# Box Plot  \n",
    "\n",
    "<br>\n",
    "<font size=3>A box plot is a type of chart often used in explanatory data analysis. Box plots visually show the distribution of numerical data and skewness through displaying the data quartiles (or percentiles) and averages.</font>"
   ]
  },
  {
   "cell_type": "code",
   "execution_count": 7,
   "metadata": {},
   "outputs": [
    {
     "data": {
      "image/png": "[encoded data removed]",
      "text/plain": [
       "<Figure size 1584x720 with 1 Axes>"
      ]
     },
     "metadata": {
      "needs_background": "light"
     },
     "output_type": "display_data"
    }
   ],
   "source": [
    "col_list=[\"positive_rate\",\"reproduction_rate\"]\n",
    "df= pd.read_csv(\"Covid_Stats.csv\", usecols=col_list)\n",
    "df = df.replace('',np.nan)\n",
    "df = df.dropna(axis=\"rows\")\n",
    "plt.rcParams[\"figure.figsize\"] = [22, 10]\n",
    "plt.rcParams[\"figure.autolayout\"] = True\n",
    "df = pd.DataFrame({\"Reproduction Rate\": df['reproduction_rate'], \"Positive Rate\": df['positive_rate']})\n",
    "ax= df[['Reproduction Rate', 'Positive Rate']].plot(kind='box',fontsize=25,color='black',vert=False,sym='b+',showmeans=True,meanline=True)\n",
    "plt.show()"
   ]
  },
  {
   "cell_type": "markdown",
   "metadata": {},
   "source": [
    "# Analysis:\n",
    "\n",
    "<br>\n",
    "<font size=3>In our dataset we have applied the box plot on positive rate and reproduction rate variables. We can see in the model of reproduction rate that it is extending to a wide range and increasing while in the model of positive rate we can see that the range is small and they both have many outliers. \n",
    "The reason for the outliers is that the distribution is abnormal and due to the different waves of corona there are abnormal intervals.<br>\n",
    "The reason for the positive rate to be decreasing is because as time passed people became more aware, followed SOPs and precautions and later on the vaccines were also introduced which caused the positive rate to decrease.\n",
    "According to the international surveys, the rate of reproduction increased during this time of covid and this can be seen in the boxplot of reproduction rate.</font>\n"
   ]
  },
  {
   "cell_type": "markdown",
   "metadata": {},
   "source": [
    "# Bar Chart\n",
    "\n",
    "<br>\n",
    "<font size=3>Bar graphs are the pictorial representation of data (generally grouped), in the form of vertical or horizontal rectangular bars, where the lengths of bars are proportional to the measure of data. They are also known as bar charts. Bar graphs are one of the means of data handling in statistics.</font>"
   ]
  },
  {
   "cell_type": "code",
   "execution_count": 8,
   "metadata": {},
   "outputs": [
    {
     "data": {
      "text/plain": [
       "<matplotlib.axes._subplots.AxesSubplot at 0x1c13a9816d0>"
      ]
     },
     "execution_count": 8,
     "metadata": {},
     "output_type": "execute_result"
    },
    {
     "data": {
      "image/png": "[encoded data removed]",
      "text/plain": [
       "<Figure size 720x576 with 1 Axes>"
      ]
     },
     "metadata": {
      "needs_background": "light"
     },
     "output_type": "display_data"
    }
   ],
   "source": [
    "names =[\"date\",\"total_vaccinations\"]\n",
    "data = pd.read_csv(\"Covid_Stats.csv\",usecols=names, parse_dates=['date'],index_col=['date'], dayfirst=True)\n",
    "\n",
    "data = data.replace('',np.nan)\n",
    "data = data.dropna(axis=\"rows\")\n",
    "\n",
    "\n",
    "spring = range(80, 172)\n",
    "summer = range(172, 264)\n",
    "fall = range(264, 355)\n",
    "\n",
    "def season(x):\n",
    "    if x in spring:\n",
    "       return 'Spring'\n",
    "    if x in summer:\n",
    "       return 'Summer'\n",
    "    if x in fall:\n",
    "       return 'Fall'\n",
    "    else :\n",
    "       return 'Winter'\n",
    "\n",
    "\n",
    "data['SEASON'] = pd.cut(\n",
    "    (data.index.dayofyear + 11) % 366,\n",
    "    [0, 91, 183, 275, 366],\n",
    "    labels=['Winter', 'Spring', 'Summer', 'Fall']\n",
    ")\n",
    "\n",
    "\n",
    "seasons = np.array(['Winter', 'Spring', 'Summer', 'Fall', 'Winter'])\n",
    "f = np.searchsorted([80, 172, 264, 355], data.index.dayofyear)\n",
    "plt.figure(figsize=(10,8))\n",
    "data.groupby('SEASON')['total_vaccinations'].mean().plot.bar(fontsize=20,color='blue')"
   ]
  },
  {
   "cell_type": "markdown",
   "metadata": {},
   "source": [
    "# Analysis:\n",
    "<br>\n",
    "<font size=3>In our dataset related to COVID we have plotted the bar graph between dates and vaccinations but because we have the data of two years so we categorized dates into four seasons. Now as we can see the bar graph that in winter season, we have the greatest number of vaccinations while in summers we have the least number of vaccinations. This is because according to WHO research the COVID wave hits more in winter so people take more precautions in winter as compared to summers.\n",
    "<br><br><b>Note:</b> The number of vaccinations is very large hence taken in exponent.\n",
    "</font>"
   ]
  },
  {
   "cell_type": "markdown",
   "metadata": {},
   "source": [
    "# Pie Chart\n",
    "\n",
    "<br>\n",
    "<font size=3>A pie chart (or a circle chart) is a circular statistical graphic, which is divided into slices to illustrate numerical proportion. In a pie chart, the arc length of each slice (and consequently its central angle and area) is proportional to the quantity it represents. While it is named for its resemblance to a pie which has been sliced, there are variations on the way it can be presented.</font>"
   ]
  },
  {
   "cell_type": "code",
   "execution_count": 9,
   "metadata": {},
   "outputs": [
    {
     "data": {
      "text/plain": [
       "<matplotlib.legend.Legend at 0x1c13aa2a040>"
      ]
     },
     "execution_count": 9,
     "metadata": {},
     "output_type": "execute_result"
    },
    {
     "data": {
      "image/png": "[encoded data removed]",
      "text/plain": [
       "<Figure size 576x720 with 1 Axes>"
      ]
     },
     "metadata": {},
     "output_type": "display_data"
    }
   ],
   "source": [
    "names =[\"date\",\"total_tests\"]\n",
    "data = pd.read_csv(\"Covid_Stats.csv\",usecols=names, parse_dates=['date'],index_col=['date'], dayfirst=True)\n",
    "\n",
    "data = data.replace('',np.nan)\n",
    "data = data.dropna(axis=\"rows\")\n",
    "\n",
    "\n",
    "spring = range(80, 172)\n",
    "summer = range(172, 264)\n",
    "fall = range(264, 355)\n",
    "\n",
    "def season(x):\n",
    "    if x in spring:\n",
    "       return 'Spring'\n",
    "    if x in summer:\n",
    "       return 'Summer'\n",
    "    if x in fall:\n",
    "       return 'Fall'\n",
    "    else :\n",
    "       return 'Winter'\n",
    "\n",
    "\n",
    "data['SEASON'] = pd.cut(\n",
    "    (data.index.dayofyear + 11) % 366,\n",
    "    [0, 91, 183, 275, 366],\n",
    "    labels=['Winter', 'Spring', 'Summer', 'Fall']\n",
    ")\n",
    "Mycolors=['yellow','green','blue','red']\n",
    "\n",
    "seasons = np.array(['Winter', 'Spring', 'Summer', 'Fall', 'Winter'])\n",
    "f = np.searchsorted([80, 172, 264, 355], data.index.dayofyear)\n",
    "total=100\n",
    "plt.figure(figsize=(8,10))\n",
    "data.groupby('SEASON')['total_tests'].mean().plot.pie(autopct=lambda p: '{:.0f}%'.format(p * total / 100),fontsize=20,shadow=True,startangle=90,colors=Mycolors)\n",
    "plt.legend(title = \"Total Tests\")"
   ]
  },
  {
   "cell_type": "markdown",
   "metadata": {},
   "source": [
    "# Analysis:\n",
    "<br><font size=3>We have plotted pie chart between the total tests and the seasons. The pie chart represents the percentage of tests which were done in a particular season. The chart below depicts that the most tests of COVID-19 were done in winter while in summers due the more cases reported in winters as discussed above. Another reason of the increment in the percentage of tests done in winter is that people travelled a lot in winter for which they had to do PCR.<br><br>Moreover, if we add all percentages, it will be $99\\%$ which is an error, maybe it is because the data was not recorded or it was left from being plotted on the graph.</font>"
   ]
  },
  {
   "cell_type": "markdown",
   "metadata": {},
   "source": [
    "# Line Plot\n",
    "\n",
    "<br><font size=3>A Line plot can be defined as a graph that displays data as points or check marks above a number line, showing the frequency of each value. Here, for instance, the line plot shows the number of ribbons of each length. \n",
    "    <br><b>Fun Fact</b> – A line plot is often confused with a line graph.\n",
    "</font>"
   ]
  },
  {
   "cell_type": "code",
   "execution_count": 10,
   "metadata": {},
   "outputs": [
    {
     "data": {
      "image/png": "[encoded data removed]",
      "text/plain": [
       "<Figure size 720x576 with 1 Axes>"
      ]
     },
     "metadata": {
      "needs_background": "light"
     },
     "output_type": "display_data"
    }
   ],
   "source": [
    "col_list=[\"total_cases\",\"stringency_index\"]\n",
    "df= pd.read_csv(\"Covid_Stats.csv\", usecols=col_list)\n",
    "df = df.replace('',np.nan)\n",
    "df = df.dropna(axis=\"rows\")\n",
    "\n",
    "\n",
    "plt.figure(figsize=(10,8))\n",
    "plt.plot(df['total_cases'], df['stringency_index'], color='blue', marker='o')\n",
    "plt.title('Total Cases VS Stringency Index', fontsize=15)\n",
    "plt.xlabel('Total Cases', fontsize=15)\n",
    "plt.ylabel('Stringency Index', fontsize=15)\n",
    "plt.grid(True)\n",
    "plt.show()"
   ]
  },
  {
   "cell_type": "markdown",
   "metadata": {},
   "source": [
    "# Analysis:\n",
    "\n",
    "### Stringency Index:\n",
    "<font size=3> This index is actually based on nine parameters: school closures; workplace closures; cancellation of public events; restrictions on public gatherings; closures of public transport; stay-at-home requirements; public information campaigns; restrictions on internal movements; and international travel controls. We take the mean of these values and hence we call it stringency index.\n",
    "\n",
    "<br><br>\n",
    "In our dataset we have plotted a line plot between total cases and stringency index. As we can see in the plot that when the total cases were less the stringency index was very high but it varies at every point and it is not in particular pattern as sometimes the lockdown was for months, sometimes for days and sometimes it was a smart lockdown.</font>\n",
    "\n",
    "\n"
   ]
  },
  {
   "cell_type": "markdown",
   "metadata": {},
   "source": [
    "# Histogram\n",
    "\n",
    "<br><font size=3>A histogram is a graphical representation that organizes a group of data points into user-specified ranges.</font>"
   ]
  },
  {
   "cell_type": "code",
   "execution_count": 11,
   "metadata": {},
   "outputs": [
    {
     "data": {
      "text/plain": [
       "(array([186.,  84.,  67.,  43.,  51.,  44.,  32.,  44.,  43.,  25.]),\n",
       " array([       0. ,  2692901.6,  5385803.2,  8078704.8, 10771606.4,\n",
       "        13464508. , 16157409.6, 18850311.2, 21543212.8, 24236114.4,\n",
       "        26929016. ]),\n",
       " <a list of 10 Patch objects>)"
      ]
     },
     "execution_count": 11,
     "metadata": {},
     "output_type": "execute_result"
    },
    {
     "data": {
      "image/png": "[encoded data removed]",
      "text/plain": [
       "<Figure size 720x576 with 1 Axes>"
      ]
     },
     "metadata": {
      "needs_background": "light"
     },
     "output_type": "display_data"
    }
   ],
   "source": [
    "col_list=[\"total_tests\",\"new_tests\"]\n",
    "df= pd.read_csv(\"Covid_Stats.csv\", usecols=col_list)\n",
    "df = df.replace('',np.nan)\n",
    "df = df.dropna(axis=\"rows\")\n",
    "plt.figure(figsize=(10,8))\n",
    "plt.xlabel(\"Total Tests\",fontsize=15)\n",
    "plt.hist(df['total_tests'],color='blue')"
   ]
  },
  {
   "cell_type": "markdown",
   "metadata": {},
   "source": [
    "# Analysis:\n",
    "\n",
    "<br><font size=3>Here, the histogram we plotted is with respect to the frequency of total tests over the time intervals.\n",
    "We can see that the frequency of total tests was visibly high in the start of the covid wave but as covid started to become common and each and every person became their own doctors and were aware of the symptoms, they didn’t bother to conduct tests hence this result. Keep in mind, that these are the cumulative count of tests every day. But there were some points where the covid waves were at their peak and the state of fear forced the people to conduct tests. The distribution of the histogram is not in a definite pattern thus producing abnormality providing us with a skewed wave.\n",
    "</font>"
   ]
  },
  {
   "cell_type": "code",
   "execution_count": 12,
   "metadata": {},
   "outputs": [
    {
     "data": {
      "text/plain": [
       "(array([ 58.,  31.,  20.,  84.,  75., 102., 124.,  75.,  36.,  14.]),\n",
       " array([    0. ,  6800.2, 13600.4, 20400.6, 27200.8, 34001. , 40801.2,\n",
       "        47601.4, 54401.6, 61201.8, 68002. ]),\n",
       " <a list of 10 Patch objects>)"
      ]
     },
     "execution_count": 12,
     "metadata": {},
     "output_type": "execute_result"
    },
    {
     "data": {
      "image/png": "[encoded data removed]",
      "text/plain": [
       "<Figure size 720x576 with 1 Axes>"
      ]
     },
     "metadata": {
      "needs_background": "light"
     },
     "output_type": "display_data"
    }
   ],
   "source": [
    "plt.figure(figsize=(10,8))\n",
    "plt.xlabel(\"New Tests\",fontsize=15)\n",
    "plt.hist(df['new_tests'],color='blue')"
   ]
  },
  {
   "cell_type": "markdown",
   "metadata": {},
   "source": [
    "# Analysis:\n",
    "\n",
    "<br><font size=3>As far as the new tests are concerned, we can see the top most bar of the histogram is in the middle of the grid indicating that most of the new tests were conducted in the mid-season of corona where the pandemic was at its peak as the stringency index at that point started to decrease which started to effect the economical and national development of country. The world had literally stopped at that moment.\n",
    "<br><br>Other than that, we can see slight increase at the start of some covid wave when the risk was high and then slowly decreasing. At the mere end of the covid pandemic we can see considerably see very few new tests as covid had not remained a death threat anymore.\n",
    "</font>"
   ]
  },
  {
   "cell_type": "markdown",
   "metadata": {},
   "source": [
    "# Checking Normality of Data\n",
    "\n",
    "<br><font size=3>Normality refers to a specific statistical distribution called a normal distribution, or sometimes the Gaussian distribution or bell-shaped curve. The normal distribution is a symmetrical continuous distribution defined by the mean and standard deviation of the data.</font>\n",
    "## Steps: \n",
    "### 1) Running Shapiro-Wilk Test\n",
    "### 2) Running D’Agostino’s K-squared Test\n",
    "### 3) Running Jerque Bera Test"
   ]
  },
  {
   "cell_type": "markdown",
   "metadata": {},
   "source": [
    "# Shapiro-Wilk Test\n",
    "<br>\n",
    "<font size =3>\n",
    "It is the most powerful test to check the normality of a variable. It was proposed in 1965 by <b>Samuel Sanford Shapiro</b> and <b>Martin Wilk</b>.\n",
    "<br>    \n",
    "\n",
    "**H0**: distribution of the sample is not significantly different from a normal distribution\n",
    "\n",
    "**H1**: distribution of the sample is significantly different from a normal distribution\n",
    "\n",
    "The Sharpiro-Wilk test statistics is defined as:\n",
    "\n",
    "<font size=\"6\">**$W = \\frac{(\\sum_{i=1}^{n}a_ix_{(i)})^2}{\\sum_{i=1}^{n}(x_i–\\bar{x})}$**</font>\n",
    "\n",
    "\n",
    "where **$x(i)$** is the ith smallest number in the sample **$(x1<x2<…<xn)$**; and $a_i$ are constants generated from var, cov, mean for a normally distributed sample.</font>"
   ]
  },
  {
   "cell_type": "code",
   "execution_count": 13,
   "metadata": {},
   "outputs": [
    {
     "name": "stdout",
     "output_type": "stream",
     "text": [
      "Stat = 0.828, P = 0.000\n",
      "\n",
      "May not be Normal\n"
     ]
    }
   ],
   "source": [
    "df= pd.read_csv(\"Covid_Stats.csv\")\n",
    "df = df.replace('',np.nan)\n",
    "df = df.dropna(axis=\"rows\")\n",
    "\n",
    "stat, p = shapiro(df['total_cases'])\n",
    "\n",
    "print(\"Stat = %.3f, P = %.3f\\n\" % (stat, p))\n",
    "\n",
    "if p > 0.05:\n",
    "    print(\"Probably Normal\")\n",
    "else:\n",
    "    print(\"May not be Normal\")"
   ]
  },
  {
   "cell_type": "markdown",
   "metadata": {},
   "source": [
    "# Analysis:\n",
    "<br>\n",
    "<font size =3>\n",
    "If the p-value ≤ 0.05, then we reject the null hypothesis i.e. we assume the distribution of our variable is not normal/gaussian.\n",
    "\n",
    "\n",
    "If the p-value > 0.05, then we fail to reject the null hypothesis i.e. we assume the distribution of our variable is normal/gaussian.</font>"
   ]
  },
  {
   "cell_type": "markdown",
   "metadata": {},
   "source": [
    "# D’Agostino’s K-squared Test\n",
    "\n",
    "<br>\n",
    "<font size =3>\n",
    "    \n",
    "<b>D’Agostino’s K-squared</b> test check’s normality of a variable based on skewness and kurtosis. It was named by Ralph D’Agostino.\n",
    "\n",
    "Skewness is a measure of symmetry.\n",
    "\n",
    "Kurtosis is a measure of whether the data are heavy-tailed or light-tailed relative to a normal distribution.\n",
    "\n",
    "\n",
    "The D’Agostino’s K-squared test statistics is defined as:\n",
    "\n",
    "<font size=6>**$K^{2}=Z_{1}(g_{1})^{2}+Z_{2}(g_{2})^{2}$**</font></font>"
   ]
  },
  {
   "cell_type": "code",
   "execution_count": 14,
   "metadata": {},
   "outputs": [
    {
     "name": "stdout",
     "output_type": "stream",
     "text": [
      "Stat = 75.332, P = 0.000\n",
      "\n",
      "May not be Normal\n"
     ]
    }
   ],
   "source": [
    "stat, p = normaltest(df['total_cases'])\n",
    "\n",
    "print(\"Stat = %.3f, P = %.3f\\n\" % (stat, p))\n",
    "\n",
    "if p > 0.05:\n",
    "    print(\"Probably Normal\")\n",
    "else:\n",
    "    print(\"May not be Normal\")"
   ]
  },
  {
   "cell_type": "markdown",
   "metadata": {},
   "source": [
    "# Analysis:\n",
    "<br>\n",
    "<font size =3>\n",
    "If the p-value ≤ 0.05, then we reject the null hypothesis i.e. we assume the distribution of our variable is not normal/gaussian.\n",
    "\n",
    "\n",
    "If the p-value > 0.05, then we fail to reject the null hypothesis i.e. we assume the distribution of our variable is normal/gaussian.</font>"
   ]
  },
  {
   "cell_type": "markdown",
   "metadata": {},
   "source": [
    "# Jarque Bera Test\n",
    "\n",
    "<br>\n",
    "<font size =3>\n",
    "The Jarque-Bera test tests whether the sample data has the skewness and kurtosis matching a normal distribution.\n",
    "\n",
    "NOTE: This test only works for a large enough number of data samples\n",
    "\n",
    "Its statistic is non-negative and large values signal significant deviation from normal distribution.\n",
    "\n",
    "The test statistic JB of Jarque-Bera is defined by:\n",
    "\n",
    "<font size=6>**$JB = \\frac{n}{6}×(S^2+\\frac{(K−3)}{2}^4)$**</font>\n",
    "\n",
    "where S is the sample skewness, K is the sample kurtosis, and n is the sample size.\n",
    "\n",
    "The hypotheses:\n",
    "\n",
    "**H0** : sample S and sample K is not significantly different from normal distribution.<br>\n",
    "**H1** : sample S and sample K is significantly different from normal distribution.<br><br>\n",
    "Now we can calculate the Jarque-Bera test statistic in Python and find the corresponding p-value: </font>"
   ]
  },
  {
   "cell_type": "code",
   "execution_count": 15,
   "metadata": {},
   "outputs": [
    {
     "name": "stdout",
     "output_type": "stream",
     "text": [
      "Stat = 113.130, P = 0.000\n",
      "\n",
      "May not be Normal\n"
     ]
    }
   ],
   "source": [
    "stat, p = jarque_bera(df['total_cases'])\n",
    "\n",
    "print(\"Stat = %.3f, P = %.3f\\n\" % (stat, p))\n",
    "\n",
    "if p > 0.05:\n",
    "    print(\"Probably Normal\")\n",
    "else:\n",
    "    print(\"May not be Normal\")"
   ]
  },
  {
   "cell_type": "markdown",
   "metadata": {},
   "source": [
    "# Analysis:\n",
    "<br>\n",
    "<font size =3>\n",
    "If the p-value ≤ 0.05, then we reject the null hypothesis i.e. we assume the distribution of our variable is not normal/gaussian.\n",
    "\n",
    "\n",
    "If the p-value > 0.05, then we fail to reject the null hypothesis i.e. we assume the distribution of our variable is normal/gaussian.</font>"
   ]
  },
  {
   "cell_type": "markdown",
   "metadata": {},
   "source": [
    "# Conclusion \n",
    "<br><font size=3>Since, we ran all the tests to check the normality and expectedly as we stated in the previous assumptions by looking at the graphs, the dataset is not normally distributed. To assure, we ran the Jarque Bera test which is only built for large datasets, and as a conclusion we got the same result. In all the cases, the null hypothesis was accepted.</font>"
   ]
  },
  {
   "cell_type": "markdown",
   "metadata": {},
   "source": [
    "# Hypothesis Testing\n",
    "<br>\n",
    "<font size =3>\n",
    "<b>Hypothesis testing</b> is a scientific process used to investigate the acceptance or rejection of a proposition under consideration. Two approaches are used in statistics to verify a hypothesis:<br> \n",
    "\n",
    "- Parametric approach \n",
    "\n",
    "- Nonparametric approach. \n",
    "\n",
    "The most important aspect of the parametric approach is the satisfaction of the assumption about data’s normality, and a few tests require the equality of population variances. In most situations, the distributional assumption under a parametric test hardly satisfy, and the use of nonparametric or distribution-free tests is a common practice. However, all such nonparametric tests apply to data containing determined observations. In real life, there are various scenarios where we have non-precise data, and in such cases, the existing hypothesis testing approach based on classical test statistics cannot be implemented.</font>"
   ]
  },
  {
   "cell_type": "markdown",
   "metadata": {},
   "source": [
    "# Neutrosophic Kruskal Wallis H Test\n",
    "\n",
    "### Background:\n",
    "<br>\n",
    "<font size =3><b>Kruskal-Wallis H</b> test from the bank of classical statistics tests is a well-known <b>nonparametric</b> alternative to a one-way analysis of variance. The test is extensively used in decision-making problems where one has to compare the equality of several means when the observations are in exact form. The test is helpless when the data is in an interval form and has some indeterminacy.</font>\n",
    "\n",
    "\n",
    "### Functionality:\n",
    "<font size =3>A Kruskal-Wallis Test is used to determine whether or not there is a statistically significant difference between the medians of three or more independent groups.</font>\n",
    "\n",
    "\n",
    "### Reason behind the selection of this method:\n",
    "<br>\n",
    "<font size =3>\n",
    "The basic purpose of suggesting the Kruskal Wallis test is to scrutinize that all independent samples containing neutrosophic observations come from neutrosophic populations with equal means implying that the populations under uncertainty are identical. The proposed nonparametric test is applicable for data where the measure of uncertainty or the measure of falseness has been recorded. <br>Suppose $XN = aN + bNIN; XN ∈ [XL, XU]$ is a neutrosophic number where the first part represents the measure of determinacy and the second part represents the measure of vagueness or uncertainty. For $IN ∈ [IL, IU] = 0$, the neutrosophic number reduces to a random variable under classical statistics. The neutrosophic variable $XN$ represents the neutrosophic sample obtained from the population containing imprecise, uncertain, and indeterminate observations.</font>"
   ]
  },
  {
   "cell_type": "code",
   "execution_count": 16,
   "metadata": {},
   "outputs": [
    {
     "name": "stdout",
     "output_type": "stream",
     "text": [
      "Stat = 21.429, P = 0.000\n",
      "\n",
      "Null Hypothesis is rejected!\n"
     ]
    },
    {
     "data": {
      "image/png": "[encoded data removed]",
      "text/plain": [
       "<Figure size 720x576 with 1 Axes>"
      ]
     },
     "metadata": {
      "needs_background": "light"
     },
     "output_type": "display_data"
    }
   ],
   "source": [
    "names=[\"date\",\"new_cases\"]\n",
    "data = pd.read_csv(\"Covid_Stats.csv\",usecols=names, parse_dates=['date'],index_col=['date'], dayfirst=True)\n",
    "\n",
    "data = data.replace('',np.nan)\n",
    "data = data.dropna(axis=\"rows\")\n",
    "\n",
    "\n",
    "#winter dataframes\n",
    "w1 = data['25-02-2020':'29-02-2020']\n",
    "w2 = data['01-11-2020':'28-02-2021']\n",
    "w3 = data['01-11-2020':'28-02-2022']\n",
    "#summer dataframes\n",
    "su1 = data['01-05-2020':'31-08-2020']\n",
    "su2 = data['01-05-2021':'31-08-2021']\n",
    "#autumn dataframes\n",
    "a1 = data['01-09-2020':'31-10-2020']\n",
    "a2 = data['01-09-2021':'31-10-2021']\n",
    "#spring dataframes\n",
    "s1 = data['01-03-2020':'30-04-2020']\n",
    "s2 = data['01-03-2021':'30-04-2021']\n",
    "s3 = data['01-03-2022':'30-04-2022']\n",
    "\n",
    "\n",
    "Summer = [su1,su2]\n",
    "Summer = pd.concat(Summer)\n",
    "Winter = [w1,w2,w3]\n",
    "Winter = pd.concat(Winter)\n",
    "Autumn = [a1,a2]\n",
    "Autumn = pd.concat(Autumn)\n",
    "Spring = [s1,s2,s3]\n",
    "Spring = pd.concat(Spring)\n",
    "\n",
    "labels=['Summer','Winter','Autumn','Spring']\n",
    "dff= [Summer.mean(),Spring.mean(),Winter.mean(),Autumn.mean()]\n",
    "\n",
    "val=[2264.161215,2264.161215,1884.315315,2029.327839]\n",
    "plt.figure(figsize=(10,8))\n",
    "plt.bar(labels,val,color='b')\n",
    "\n",
    "\n",
    "stat,p= stats.kruskal(Summer,Winter,Autumn,Spring)\n",
    "\n",
    "print(\"Stat = %.3f, P = %.3f\\n\" % (stat, p))\n",
    "\n",
    "if p > 0.5:\n",
    "    print(\"Null Hypothesis is accepted! \")\n",
    "else:\n",
    "    print(\"Null Hypothesis is rejected!\")"
   ]
  },
  {
   "cell_type": "markdown",
   "metadata": {},
   "source": [
    "# Analysis:\n",
    "\n",
    "<br><font size=3>\n",
    "Since this p-value is less than 0.05, we can reject the null hypothesis that the spread and occurence of new cases was the same in all four seasons. We have sufficient evidence to conclude that there was a vast difference in the statistical change of new covid cases.</font>"
   ]
  }
 ],
 "metadata": {
  "kernelspec": {
   "display_name": "Python 3",
   "language": "python",
   "name": "python3"
  },
  "language_info": {
   "codemirror_mode": {
    "name": "ipython",
    "version": 3
   },
   "file_extension": ".py",
   "mimetype": "text/x-python",
   "name": "python",
   "nbconvert_exporter": "python",
   "pygments_lexer": "ipython3",
   "version": "3.8.3"
  }
 },
 "nbformat": 4,
 "nbformat_minor": 4
}
