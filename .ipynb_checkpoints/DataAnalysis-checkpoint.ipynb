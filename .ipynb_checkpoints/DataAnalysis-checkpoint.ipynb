{
 "cells": [
  {
   "cell_type": "markdown",
   "metadata": {},
   "source": [
    "# Importing Modules"
   ]
  },
  {
   "cell_type": "code",
   "execution_count": 127,
   "metadata": {},
   "outputs": [],
   "source": [
    "import pandas as pd\n",
    "import numpy as np\n",
    "import matplotlib.pyplot as plt\n",
    "%matplotlib inline\n",
    "from scipy.stats import shapiro\n",
    "from scipy.stats import normaltest\n",
    "from scipy.stats import jarque_bera\n",
    "from scipy import stats"
   ]
  },
  {
   "cell_type": "markdown",
   "metadata": {},
   "source": [
    "# Analysis:\n",
    "\n",
    "#### 1) Pandas: Used to deal with the manipulation and reading of .csv files. Also used for descriptive statistical analysis of data.\n",
    "#### 2) Numpy: Faster method to manipulate lists and functioning with arrays.\n",
    "#### 3) Matplotlib: Used to implement different types of colorful graphs for better understanding of data.\n",
    "#### 4) Scipy: Used to implement different types of statistical analysis (used here to check normality of data)"
   ]
  },
  {
   "cell_type": "markdown",
   "metadata": {},
   "source": [
    "# Importing Data from CSV file using Pandas"
   ]
  },
  {
   "cell_type": "code",
   "execution_count": 128,
   "metadata": {},
   "outputs": [
    {
     "data": {
      "text/html": [
       "<div>\n",
       "<style scoped>\n",
       "    .dataframe tbody tr th:only-of-type {\n",
       "        vertical-align: middle;\n",
       "    }\n",
       "\n",
       "    .dataframe tbody tr th {\n",
       "        vertical-align: top;\n",
       "    }\n",
       "\n",
       "    .dataframe thead th {\n",
       "        text-align: right;\n",
       "    }\n",
       "</style>\n",
       "<table border=\"1\" class=\"dataframe\">\n",
       "  <thead>\n",
       "    <tr style=\"text-align: right;\">\n",
       "      <th></th>\n",
       "      <th>date</th>\n",
       "      <th>total_cases</th>\n",
       "      <th>new_cases</th>\n",
       "      <th>total_deaths</th>\n",
       "      <th>new_deaths</th>\n",
       "      <th>reproduction_rate</th>\n",
       "      <th>total_tests</th>\n",
       "      <th>new_tests</th>\n",
       "      <th>positive_rate</th>\n",
       "      <th>tests_per_case</th>\n",
       "      <th>total_vaccinations</th>\n",
       "      <th>new_vaccinations</th>\n",
       "      <th>stringency_index</th>\n",
       "    </tr>\n",
       "  </thead>\n",
       "  <tbody>\n",
       "    <tr>\n",
       "      <th>275</th>\n",
       "      <td>26/11/2020</td>\n",
       "      <td>389311</td>\n",
       "      <td>3113</td>\n",
       "      <td>7897</td>\n",
       "      <td>54</td>\n",
       "      <td>1.17</td>\n",
       "      <td>5343702.0</td>\n",
       "      <td>45999.0</td>\n",
       "      <td>0.0716</td>\n",
       "      <td>14.0</td>\n",
       "      <td>0.0</td>\n",
       "      <td>0.0</td>\n",
       "      <td>64.35</td>\n",
       "    </tr>\n",
       "    <tr>\n",
       "      <th>396</th>\n",
       "      <td>27/03/2021</td>\n",
       "      <td>654591</td>\n",
       "      <td>4767</td>\n",
       "      <td>14215</td>\n",
       "      <td>57</td>\n",
       "      <td>1.25</td>\n",
       "      <td>10021070.0</td>\n",
       "      <td>44279.0</td>\n",
       "      <td>0.0965</td>\n",
       "      <td>10.4</td>\n",
       "      <td>NaN</td>\n",
       "      <td>0.0</td>\n",
       "      <td>56.02</td>\n",
       "    </tr>\n",
       "    <tr>\n",
       "      <th>220</th>\n",
       "      <td>02/10/2020</td>\n",
       "      <td>313984</td>\n",
       "      <td>553</td>\n",
       "      <td>6507</td>\n",
       "      <td>8</td>\n",
       "      <td>1.00</td>\n",
       "      <td>3580173.0</td>\n",
       "      <td>31697.0</td>\n",
       "      <td>0.0186</td>\n",
       "      <td>53.6</td>\n",
       "      <td>0.0</td>\n",
       "      <td>0.0</td>\n",
       "      <td>67.13</td>\n",
       "    </tr>\n",
       "    <tr>\n",
       "      <th>387</th>\n",
       "      <td>18/03/2021</td>\n",
       "      <td>619259</td>\n",
       "      <td>3449</td>\n",
       "      <td>13757</td>\n",
       "      <td>40</td>\n",
       "      <td>1.33</td>\n",
       "      <td>NaN</td>\n",
       "      <td>NaN</td>\n",
       "      <td>0.0664</td>\n",
       "      <td>15.1</td>\n",
       "      <td>NaN</td>\n",
       "      <td>0.0</td>\n",
       "      <td>50.46</td>\n",
       "    </tr>\n",
       "    <tr>\n",
       "      <th>395</th>\n",
       "      <td>26/03/2021</td>\n",
       "      <td>649824</td>\n",
       "      <td>4468</td>\n",
       "      <td>14158</td>\n",
       "      <td>67</td>\n",
       "      <td>1.25</td>\n",
       "      <td>9976791.0</td>\n",
       "      <td>42418.0</td>\n",
       "      <td>0.0934</td>\n",
       "      <td>10.7</td>\n",
       "      <td>NaN</td>\n",
       "      <td>0.0</td>\n",
       "      <td>56.02</td>\n",
       "    </tr>\n",
       "    <tr>\n",
       "      <th>5</th>\n",
       "      <td>01/03/2020</td>\n",
       "      <td>4</td>\n",
       "      <td>0</td>\n",
       "      <td>0</td>\n",
       "      <td>0</td>\n",
       "      <td>0.00</td>\n",
       "      <td>0.0</td>\n",
       "      <td>0.0</td>\n",
       "      <td>0.0000</td>\n",
       "      <td>0.0</td>\n",
       "      <td>0.0</td>\n",
       "      <td>0.0</td>\n",
       "      <td>28.70</td>\n",
       "    </tr>\n",
       "    <tr>\n",
       "      <th>471</th>\n",
       "      <td>10/06/2021</td>\n",
       "      <td>938737</td>\n",
       "      <td>1303</td>\n",
       "      <td>21576</td>\n",
       "      <td>47</td>\n",
       "      <td>0.72</td>\n",
       "      <td>13705490.0</td>\n",
       "      <td>41824.0</td>\n",
       "      <td>0.0301</td>\n",
       "      <td>33.3</td>\n",
       "      <td>NaN</td>\n",
       "      <td>NaN</td>\n",
       "      <td>65.74</td>\n",
       "    </tr>\n",
       "    <tr>\n",
       "      <th>329</th>\n",
       "      <td>19/01/2021</td>\n",
       "      <td>524783</td>\n",
       "      <td>1772</td>\n",
       "      <td>11103</td>\n",
       "      <td>48</td>\n",
       "      <td>0.91</td>\n",
       "      <td>7442084.0</td>\n",
       "      <td>36513.0</td>\n",
       "      <td>0.0571</td>\n",
       "      <td>17.5</td>\n",
       "      <td>0.0</td>\n",
       "      <td>0.0</td>\n",
       "      <td>60.65</td>\n",
       "    </tr>\n",
       "    <tr>\n",
       "      <th>640</th>\n",
       "      <td>26/11/2021</td>\n",
       "      <td>1283886</td>\n",
       "      <td>411</td>\n",
       "      <td>28704</td>\n",
       "      <td>7</td>\n",
       "      <td>0.95</td>\n",
       "      <td>21832091.0</td>\n",
       "      <td>35176.0</td>\n",
       "      <td>0.0087</td>\n",
       "      <td>114.5</td>\n",
       "      <td>122319215.0</td>\n",
       "      <td>NaN</td>\n",
       "      <td>44.91</td>\n",
       "    </tr>\n",
       "    <tr>\n",
       "      <th>580</th>\n",
       "      <td>27/09/2021</td>\n",
       "      <td>1241825</td>\n",
       "      <td>1400</td>\n",
       "      <td>27638</td>\n",
       "      <td>41</td>\n",
       "      <td>0.75</td>\n",
       "      <td>19240519.0</td>\n",
       "      <td>48732.0</td>\n",
       "      <td>0.0413</td>\n",
       "      <td>24.2</td>\n",
       "      <td>79533208.0</td>\n",
       "      <td>NaN</td>\n",
       "      <td>50.46</td>\n",
       "    </tr>\n",
       "    <tr>\n",
       "      <th>520</th>\n",
       "      <td>29/07/2021</td>\n",
       "      <td>1024861</td>\n",
       "      <td>4537</td>\n",
       "      <td>23295</td>\n",
       "      <td>86</td>\n",
       "      <td>1.36</td>\n",
       "      <td>NaN</td>\n",
       "      <td>NaN</td>\n",
       "      <td>0.0756</td>\n",
       "      <td>13.2</td>\n",
       "      <td>27875999.0</td>\n",
       "      <td>1627764.0</td>\n",
       "      <td>69.44</td>\n",
       "    </tr>\n",
       "    <tr>\n",
       "      <th>136</th>\n",
       "      <td>10/07/2020</td>\n",
       "      <td>246351</td>\n",
       "      <td>2752</td>\n",
       "      <td>5123</td>\n",
       "      <td>65</td>\n",
       "      <td>0.80</td>\n",
       "      <td>1514858.0</td>\n",
       "      <td>23421.0</td>\n",
       "      <td>0.1490</td>\n",
       "      <td>6.7</td>\n",
       "      <td>0.0</td>\n",
       "      <td>0.0</td>\n",
       "      <td>66.67</td>\n",
       "    </tr>\n",
       "    <tr>\n",
       "      <th>112</th>\n",
       "      <td>16/06/2020</td>\n",
       "      <td>154760</td>\n",
       "      <td>5839</td>\n",
       "      <td>2975</td>\n",
       "      <td>136</td>\n",
       "      <td>1.15</td>\n",
       "      <td>922665.0</td>\n",
       "      <td>25015.0</td>\n",
       "      <td>0.2136</td>\n",
       "      <td>4.7</td>\n",
       "      <td>0.0</td>\n",
       "      <td>0.0</td>\n",
       "      <td>61.11</td>\n",
       "    </tr>\n",
       "    <tr>\n",
       "      <th>283</th>\n",
       "      <td>04/12/2020</td>\n",
       "      <td>413191</td>\n",
       "      <td>3119</td>\n",
       "      <td>8303</td>\n",
       "      <td>43</td>\n",
       "      <td>1.08</td>\n",
       "      <td>5672166.0</td>\n",
       "      <td>44627.0</td>\n",
       "      <td>0.0730</td>\n",
       "      <td>13.7</td>\n",
       "      <td>0.0</td>\n",
       "      <td>0.0</td>\n",
       "      <td>64.35</td>\n",
       "    </tr>\n",
       "    <tr>\n",
       "      <th>753</th>\n",
       "      <td>19/03/2022</td>\n",
       "      <td>1521888</td>\n",
       "      <td>375</td>\n",
       "      <td>30329</td>\n",
       "      <td>1</td>\n",
       "      <td>0.65</td>\n",
       "      <td>NaN</td>\n",
       "      <td>NaN</td>\n",
       "      <td>0.0131</td>\n",
       "      <td>76.3</td>\n",
       "      <td>NaN</td>\n",
       "      <td>NaN</td>\n",
       "      <td>70.37</td>\n",
       "    </tr>\n",
       "  </tbody>\n",
       "</table>\n",
       "</div>"
      ],
      "text/plain": [
       "           date  total_cases  new_cases  total_deaths  new_deaths  \\\n",
       "275  26/11/2020       389311       3113          7897          54   \n",
       "396  27/03/2021       654591       4767         14215          57   \n",
       "220  02/10/2020       313984        553          6507           8   \n",
       "387  18/03/2021       619259       3449         13757          40   \n",
       "395  26/03/2021       649824       4468         14158          67   \n",
       "5    01/03/2020            4          0             0           0   \n",
       "471  10/06/2021       938737       1303         21576          47   \n",
       "329  19/01/2021       524783       1772         11103          48   \n",
       "640  26/11/2021      1283886        411         28704           7   \n",
       "580  27/09/2021      1241825       1400         27638          41   \n",
       "520  29/07/2021      1024861       4537         23295          86   \n",
       "136  10/07/2020       246351       2752          5123          65   \n",
       "112  16/06/2020       154760       5839          2975         136   \n",
       "283  04/12/2020       413191       3119          8303          43   \n",
       "753  19/03/2022      1521888        375         30329           1   \n",
       "\n",
       "     reproduction_rate  total_tests  new_tests  positive_rate  tests_per_case  \\\n",
       "275               1.17    5343702.0    45999.0         0.0716            14.0   \n",
       "396               1.25   10021070.0    44279.0         0.0965            10.4   \n",
       "220               1.00    3580173.0    31697.0         0.0186            53.6   \n",
       "387               1.33          NaN        NaN         0.0664            15.1   \n",
       "395               1.25    9976791.0    42418.0         0.0934            10.7   \n",
       "5                 0.00          0.0        0.0         0.0000             0.0   \n",
       "471               0.72   13705490.0    41824.0         0.0301            33.3   \n",
       "329               0.91    7442084.0    36513.0         0.0571            17.5   \n",
       "640               0.95   21832091.0    35176.0         0.0087           114.5   \n",
       "580               0.75   19240519.0    48732.0         0.0413            24.2   \n",
       "520               1.36          NaN        NaN         0.0756            13.2   \n",
       "136               0.80    1514858.0    23421.0         0.1490             6.7   \n",
       "112               1.15     922665.0    25015.0         0.2136             4.7   \n",
       "283               1.08    5672166.0    44627.0         0.0730            13.7   \n",
       "753               0.65          NaN        NaN         0.0131            76.3   \n",
       "\n",
       "     total_vaccinations  new_vaccinations  stringency_index  \n",
       "275                 0.0               0.0             64.35  \n",
       "396                 NaN               0.0             56.02  \n",
       "220                 0.0               0.0             67.13  \n",
       "387                 NaN               0.0             50.46  \n",
       "395                 NaN               0.0             56.02  \n",
       "5                   0.0               0.0             28.70  \n",
       "471                 NaN               NaN             65.74  \n",
       "329                 0.0               0.0             60.65  \n",
       "640         122319215.0               NaN             44.91  \n",
       "580          79533208.0               NaN             50.46  \n",
       "520          27875999.0         1627764.0             69.44  \n",
       "136                 0.0               0.0             66.67  \n",
       "112                 0.0               0.0             61.11  \n",
       "283                 0.0               0.0             64.35  \n",
       "753                 NaN               NaN             70.37  "
      ]
     },
     "execution_count": 128,
     "metadata": {},
     "output_type": "execute_result"
    }
   ],
   "source": [
    "df = pd.read_csv(\"Covid_Stats.csv\")\n",
    "df.sample(15)"
   ]
  },
  {
   "cell_type": "markdown",
   "metadata": {},
   "source": [
    "# Analysis:\n",
    "\n"
   ]
  },
  {
   "cell_type": "markdown",
   "metadata": {},
   "source": [
    "# Linear Regression Model between Total and New Cases"
   ]
  },
  {
   "cell_type": "code",
   "execution_count": 129,
   "metadata": {},
   "outputs": [
    {
     "data": {
      "image/png": "[encoded data removed]",
      "text/plain": [
       "<Figure size 432x288 with 1 Axes>"
      ]
     },
     "metadata": {
      "needs_background": "light"
     },
     "output_type": "display_data"
    }
   ],
   "source": [
    "TotalCases = df['total_cases']\n",
    "TotalDeaths = df['total_deaths']\n",
    "slope, intercept, r, p, std_err = stats.linregress(TotalCases, TotalDeaths)\n",
    "\n",
    "def myfunc(TotalCases):\n",
    "  return slope * TotalCases + intercept\n",
    "\n",
    "mymodel = list(map(myfunc, TotalCases))\n",
    "plt.scatter(TotalCases,TotalDeaths,color='yellow')\n",
    "plt.plot(TotalCases,mymodel,color='red',linestyle='--')\n",
    "plt.xlabel('Total Cases')\n",
    "plt.ylabel('Total Deaths')\n",
    "plt.show()"
   ]
  },
  {
   "cell_type": "markdown",
   "metadata": {},
   "source": [
    "# Analysis:"
   ]
  },
  {
   "cell_type": "markdown",
   "metadata": {},
   "source": [
    "# Removing NaN values and displaying Data Sample "
   ]
  },
  {
   "cell_type": "code",
   "execution_count": 130,
   "metadata": {},
   "outputs": [
    {
     "data": {
      "text/html": [
       "<div>\n",
       "<style scoped>\n",
       "    .dataframe tbody tr th:only-of-type {\n",
       "        vertical-align: middle;\n",
       "    }\n",
       "\n",
       "    .dataframe tbody tr th {\n",
       "        vertical-align: top;\n",
       "    }\n",
       "\n",
       "    .dataframe thead th {\n",
       "        text-align: right;\n",
       "    }\n",
       "</style>\n",
       "<table border=\"1\" class=\"dataframe\">\n",
       "  <thead>\n",
       "    <tr style=\"text-align: right;\">\n",
       "      <th></th>\n",
       "      <th>date</th>\n",
       "      <th>total_cases</th>\n",
       "      <th>new_cases</th>\n",
       "      <th>total_deaths</th>\n",
       "      <th>new_deaths</th>\n",
       "      <th>reproduction_rate</th>\n",
       "      <th>total_tests</th>\n",
       "      <th>new_tests</th>\n",
       "      <th>positive_rate</th>\n",
       "      <th>tests_per_case</th>\n",
       "      <th>total_vaccinations</th>\n",
       "      <th>new_vaccinations</th>\n",
       "      <th>stringency_index</th>\n",
       "    </tr>\n",
       "  </thead>\n",
       "  <tbody>\n",
       "    <tr>\n",
       "      <th>79</th>\n",
       "      <td>14/05/2020</td>\n",
       "      <td>38799</td>\n",
       "      <td>3011</td>\n",
       "      <td>834</td>\n",
       "      <td>64</td>\n",
       "      <td>1.20</td>\n",
       "      <td>330750.0</td>\n",
       "      <td>13051.0</td>\n",
       "      <td>0.1438</td>\n",
       "      <td>7.0</td>\n",
       "      <td>0.0</td>\n",
       "      <td>0.0</td>\n",
       "      <td>89.81</td>\n",
       "    </tr>\n",
       "    <tr>\n",
       "      <th>435</th>\n",
       "      <td>05/05/2021</td>\n",
       "      <td>841636</td>\n",
       "      <td>4113</td>\n",
       "      <td>18429</td>\n",
       "      <td>119</td>\n",
       "      <td>0.89</td>\n",
       "      <td>12010519.0</td>\n",
       "      <td>44837.0</td>\n",
       "      <td>0.0789</td>\n",
       "      <td>12.7</td>\n",
       "      <td>3150122.0</td>\n",
       "      <td>182252.0</td>\n",
       "      <td>78.24</td>\n",
       "    </tr>\n",
       "    <tr>\n",
       "      <th>463</th>\n",
       "      <td>02/06/2021</td>\n",
       "      <td>926695</td>\n",
       "      <td>2028</td>\n",
       "      <td>21022</td>\n",
       "      <td>92</td>\n",
       "      <td>0.76</td>\n",
       "      <td>13316397.0</td>\n",
       "      <td>47183.0</td>\n",
       "      <td>0.0413</td>\n",
       "      <td>24.2</td>\n",
       "      <td>7648481.0</td>\n",
       "      <td>311294.0</td>\n",
       "      <td>63.43</td>\n",
       "    </tr>\n",
       "    <tr>\n",
       "      <th>626</th>\n",
       "      <td>12/11/2021</td>\n",
       "      <td>1279373</td>\n",
       "      <td>231</td>\n",
       "      <td>28595</td>\n",
       "      <td>11</td>\n",
       "      <td>0.77</td>\n",
       "      <td>21318930.0</td>\n",
       "      <td>38524.0</td>\n",
       "      <td>0.0102</td>\n",
       "      <td>98.3</td>\n",
       "      <td>118333360.0</td>\n",
       "      <td>1089429.0</td>\n",
       "      <td>44.91</td>\n",
       "    </tr>\n",
       "    <tr>\n",
       "      <th>234</th>\n",
       "      <td>16/10/2020</td>\n",
       "      <td>322452</td>\n",
       "      <td>575</td>\n",
       "      <td>6638</td>\n",
       "      <td>17</td>\n",
       "      <td>1.03</td>\n",
       "      <td>4009497.0</td>\n",
       "      <td>33901.0</td>\n",
       "      <td>0.0195</td>\n",
       "      <td>51.2</td>\n",
       "      <td>0.0</td>\n",
       "      <td>0.0</td>\n",
       "      <td>53.24</td>\n",
       "    </tr>\n",
       "    <tr>\n",
       "      <th>406</th>\n",
       "      <td>06/04/2021</td>\n",
       "      <td>700188</td>\n",
       "      <td>4004</td>\n",
       "      <td>15026</td>\n",
       "      <td>102</td>\n",
       "      <td>1.10</td>\n",
       "      <td>10493362.0</td>\n",
       "      <td>46665.0</td>\n",
       "      <td>0.0948</td>\n",
       "      <td>10.5</td>\n",
       "      <td>936383.0</td>\n",
       "      <td>0.0</td>\n",
       "      <td>56.02</td>\n",
       "    </tr>\n",
       "    <tr>\n",
       "      <th>150</th>\n",
       "      <td>24/07/2020</td>\n",
       "      <td>271887</td>\n",
       "      <td>1487</td>\n",
       "      <td>5787</td>\n",
       "      <td>24</td>\n",
       "      <td>0.66</td>\n",
       "      <td>1821296.0</td>\n",
       "      <td>22006.0</td>\n",
       "      <td>0.0687</td>\n",
       "      <td>14.6</td>\n",
       "      <td>0.0</td>\n",
       "      <td>0.0</td>\n",
       "      <td>66.67</td>\n",
       "    </tr>\n",
       "    <tr>\n",
       "      <th>179</th>\n",
       "      <td>22/08/2020</td>\n",
       "      <td>292174</td>\n",
       "      <td>586</td>\n",
       "      <td>6231</td>\n",
       "      <td>12</td>\n",
       "      <td>0.87</td>\n",
       "      <td>2414902.0</td>\n",
       "      <td>25537.0</td>\n",
       "      <td>0.0255</td>\n",
       "      <td>39.2</td>\n",
       "      <td>0.0</td>\n",
       "      <td>0.0</td>\n",
       "      <td>47.69</td>\n",
       "    </tr>\n",
       "    <tr>\n",
       "      <th>140</th>\n",
       "      <td>14/07/2020</td>\n",
       "      <td>255769</td>\n",
       "      <td>2165</td>\n",
       "      <td>5386</td>\n",
       "      <td>66</td>\n",
       "      <td>0.74</td>\n",
       "      <td>1606190.0</td>\n",
       "      <td>21020.0</td>\n",
       "      <td>0.1135</td>\n",
       "      <td>8.8</td>\n",
       "      <td>0.0</td>\n",
       "      <td>0.0</td>\n",
       "      <td>66.67</td>\n",
       "    </tr>\n",
       "    <tr>\n",
       "      <th>62</th>\n",
       "      <td>27/04/2020</td>\n",
       "      <td>14612</td>\n",
       "      <td>697</td>\n",
       "      <td>312</td>\n",
       "      <td>20</td>\n",
       "      <td>1.38</td>\n",
       "      <td>150756.0</td>\n",
       "      <td>6391.0</td>\n",
       "      <td>0.1182</td>\n",
       "      <td>8.5</td>\n",
       "      <td>0.0</td>\n",
       "      <td>0.0</td>\n",
       "      <td>89.81</td>\n",
       "    </tr>\n",
       "    <tr>\n",
       "      <th>241</th>\n",
       "      <td>23/10/2020</td>\n",
       "      <td>327063</td>\n",
       "      <td>847</td>\n",
       "      <td>6727</td>\n",
       "      <td>12</td>\n",
       "      <td>1.16</td>\n",
       "      <td>4204320.0</td>\n",
       "      <td>27050.0</td>\n",
       "      <td>0.0237</td>\n",
       "      <td>42.3</td>\n",
       "      <td>0.0</td>\n",
       "      <td>0.0</td>\n",
       "      <td>53.24</td>\n",
       "    </tr>\n",
       "    <tr>\n",
       "      <th>285</th>\n",
       "      <td>06/12/2020</td>\n",
       "      <td>420294</td>\n",
       "      <td>3795</td>\n",
       "      <td>8398</td>\n",
       "      <td>37</td>\n",
       "      <td>1.07</td>\n",
       "      <td>5754986.0</td>\n",
       "      <td>41645.0</td>\n",
       "      <td>0.0797</td>\n",
       "      <td>12.5</td>\n",
       "      <td>0.0</td>\n",
       "      <td>0.0</td>\n",
       "      <td>64.35</td>\n",
       "    </tr>\n",
       "    <tr>\n",
       "      <th>185</th>\n",
       "      <td>28/08/2020</td>\n",
       "      <td>295053</td>\n",
       "      <td>415</td>\n",
       "      <td>6283</td>\n",
       "      <td>9</td>\n",
       "      <td>0.82</td>\n",
       "      <td>2559261.0</td>\n",
       "      <td>23483.0</td>\n",
       "      <td>0.0204</td>\n",
       "      <td>49.0</td>\n",
       "      <td>0.0</td>\n",
       "      <td>0.0</td>\n",
       "      <td>47.69</td>\n",
       "    </tr>\n",
       "    <tr>\n",
       "      <th>47</th>\n",
       "      <td>12/04/2020</td>\n",
       "      <td>5496</td>\n",
       "      <td>266</td>\n",
       "      <td>93</td>\n",
       "      <td>2</td>\n",
       "      <td>1.37</td>\n",
       "      <td>65114.0</td>\n",
       "      <td>3313.0</td>\n",
       "      <td>0.0592</td>\n",
       "      <td>16.9</td>\n",
       "      <td>0.0</td>\n",
       "      <td>0.0</td>\n",
       "      <td>96.30</td>\n",
       "    </tr>\n",
       "    <tr>\n",
       "      <th>264</th>\n",
       "      <td>15/11/2020</td>\n",
       "      <td>359032</td>\n",
       "      <td>2128</td>\n",
       "      <td>7160</td>\n",
       "      <td>19</td>\n",
       "      <td>1.32</td>\n",
       "      <td>4921050.0</td>\n",
       "      <td>39410.0</td>\n",
       "      <td>0.0580</td>\n",
       "      <td>17.2</td>\n",
       "      <td>0.0</td>\n",
       "      <td>0.0</td>\n",
       "      <td>47.69</td>\n",
       "    </tr>\n",
       "  </tbody>\n",
       "</table>\n",
       "</div>"
      ],
      "text/plain": [
       "           date  total_cases  new_cases  total_deaths  new_deaths  \\\n",
       "79   14/05/2020        38799       3011           834          64   \n",
       "435  05/05/2021       841636       4113         18429         119   \n",
       "463  02/06/2021       926695       2028         21022          92   \n",
       "626  12/11/2021      1279373        231         28595          11   \n",
       "234  16/10/2020       322452        575          6638          17   \n",
       "406  06/04/2021       700188       4004         15026         102   \n",
       "150  24/07/2020       271887       1487          5787          24   \n",
       "179  22/08/2020       292174        586          6231          12   \n",
       "140  14/07/2020       255769       2165          5386          66   \n",
       "62   27/04/2020        14612        697           312          20   \n",
       "241  23/10/2020       327063        847          6727          12   \n",
       "285  06/12/2020       420294       3795          8398          37   \n",
       "185  28/08/2020       295053        415          6283           9   \n",
       "47   12/04/2020         5496        266            93           2   \n",
       "264  15/11/2020       359032       2128          7160          19   \n",
       "\n",
       "     reproduction_rate  total_tests  new_tests  positive_rate  tests_per_case  \\\n",
       "79                1.20     330750.0    13051.0         0.1438             7.0   \n",
       "435               0.89   12010519.0    44837.0         0.0789            12.7   \n",
       "463               0.76   13316397.0    47183.0         0.0413            24.2   \n",
       "626               0.77   21318930.0    38524.0         0.0102            98.3   \n",
       "234               1.03    4009497.0    33901.0         0.0195            51.2   \n",
       "406               1.10   10493362.0    46665.0         0.0948            10.5   \n",
       "150               0.66    1821296.0    22006.0         0.0687            14.6   \n",
       "179               0.87    2414902.0    25537.0         0.0255            39.2   \n",
       "140               0.74    1606190.0    21020.0         0.1135             8.8   \n",
       "62                1.38     150756.0     6391.0         0.1182             8.5   \n",
       "241               1.16    4204320.0    27050.0         0.0237            42.3   \n",
       "285               1.07    5754986.0    41645.0         0.0797            12.5   \n",
       "185               0.82    2559261.0    23483.0         0.0204            49.0   \n",
       "47                1.37      65114.0     3313.0         0.0592            16.9   \n",
       "264               1.32    4921050.0    39410.0         0.0580            17.2   \n",
       "\n",
       "     total_vaccinations  new_vaccinations  stringency_index  \n",
       "79                  0.0               0.0             89.81  \n",
       "435           3150122.0          182252.0             78.24  \n",
       "463           7648481.0          311294.0             63.43  \n",
       "626         118333360.0         1089429.0             44.91  \n",
       "234                 0.0               0.0             53.24  \n",
       "406            936383.0               0.0             56.02  \n",
       "150                 0.0               0.0             66.67  \n",
       "179                 0.0               0.0             47.69  \n",
       "140                 0.0               0.0             66.67  \n",
       "62                  0.0               0.0             89.81  \n",
       "241                 0.0               0.0             53.24  \n",
       "285                 0.0               0.0             64.35  \n",
       "185                 0.0               0.0             47.69  \n",
       "47                  0.0               0.0             96.30  \n",
       "264                 0.0               0.0             47.69  "
      ]
     },
     "execution_count": 130,
     "metadata": {},
     "output_type": "execute_result"
    }
   ],
   "source": [
    "df = df.replace('',np.nan)\n",
    "df = df.dropna(axis=\"rows\")\n",
    "df.sample(15)"
   ]
  },
  {
   "cell_type": "markdown",
   "metadata": {},
   "source": [
    "# Analysis on above"
   ]
  },
  {
   "cell_type": "markdown",
   "metadata": {},
   "source": [
    "# Linear Regression Model between New Cases and Deaths"
   ]
  },
  {
   "cell_type": "code",
   "execution_count": 131,
   "metadata": {
    "scrolled": true
   },
   "outputs": [
    {
     "data": {
      "image/png": "[encoded data removed]",
      "text/plain": [
       "<Figure size 432x288 with 1 Axes>"
      ]
     },
     "metadata": {
      "needs_background": "light"
     },
     "output_type": "display_data"
    }
   ],
   "source": [
    "NewCases = df['new_cases']\n",
    "NewDeaths = df['new_deaths']\n",
    "slope, intercept, r, p, std_err = stats.linregress(NewCases, NewDeaths)\n",
    "\n",
    "def myfunc(NewCases):\n",
    "  return slope * NewCases + intercept\n",
    "\n",
    "mymodel = list((map(myfunc, NewCases)))\n",
    "\n",
    "plt.scatter(NewCases,NewDeaths,color='yellow')\n",
    "plt.plot(NewCases,mymodel,color='red',linestyle='--')\n",
    "plt.xlabel('New Cases')\n",
    "plt.ylabel('New Deaths')\n",
    "plt.show()"
   ]
  },
  {
   "cell_type": "markdown",
   "metadata": {},
   "source": [
    "# Analysis on above"
   ]
  },
  {
   "cell_type": "markdown",
   "metadata": {},
   "source": [
    "# Descriptive Statistics"
   ]
  },
  {
   "cell_type": "code",
   "execution_count": 132,
   "metadata": {},
   "outputs": [
    {
     "data": {
      "text/html": [
       "<div>\n",
       "<style scoped>\n",
       "    .dataframe tbody tr th:only-of-type {\n",
       "        vertical-align: middle;\n",
       "    }\n",
       "\n",
       "    .dataframe tbody tr th {\n",
       "        vertical-align: top;\n",
       "    }\n",
       "\n",
       "    .dataframe thead th {\n",
       "        text-align: right;\n",
       "    }\n",
       "</style>\n",
       "<table border=\"1\" class=\"dataframe\">\n",
       "  <thead>\n",
       "    <tr style=\"text-align: right;\">\n",
       "      <th></th>\n",
       "      <th>total_cases</th>\n",
       "      <th>new_cases</th>\n",
       "      <th>total_deaths</th>\n",
       "      <th>new_deaths</th>\n",
       "      <th>reproduction_rate</th>\n",
       "      <th>total_tests</th>\n",
       "      <th>new_tests</th>\n",
       "      <th>positive_rate</th>\n",
       "      <th>tests_per_case</th>\n",
       "      <th>total_vaccinations</th>\n",
       "      <th>new_vaccinations</th>\n",
       "      <th>stringency_index</th>\n",
       "    </tr>\n",
       "  </thead>\n",
       "  <tbody>\n",
       "    <tr>\n",
       "      <th>count</th>\n",
       "      <td>7.960000e+02</td>\n",
       "      <td>796.000000</td>\n",
       "      <td>796.000000</td>\n",
       "      <td>796.000000</td>\n",
       "      <td>791.000000</td>\n",
       "      <td>6.810000e+02</td>\n",
       "      <td>619.000000</td>\n",
       "      <td>790.000000</td>\n",
       "      <td>790.000000</td>\n",
       "      <td>5.380000e+02</td>\n",
       "      <td>5.430000e+02</td>\n",
       "      <td>776.000000</td>\n",
       "    </tr>\n",
       "    <tr>\n",
       "      <th>mean</th>\n",
       "      <td>7.422330e+05</td>\n",
       "      <td>1919.542714</td>\n",
       "      <td>15987.468593</td>\n",
       "      <td>38.152010</td>\n",
       "      <td>1.002958</td>\n",
       "      <td>1.013747e+07</td>\n",
       "      <td>34050.303716</td>\n",
       "      <td>0.058558</td>\n",
       "      <td>36.942532</td>\n",
       "      <td>3.777594e+07</td>\n",
       "      <td>1.657756e+05</td>\n",
       "      <td>61.358054</td>\n",
       "    </tr>\n",
       "    <tr>\n",
       "      <th>std</th>\n",
       "      <td>5.036871e+05</td>\n",
       "      <td>1771.066460</td>\n",
       "      <td>10786.743411</td>\n",
       "      <td>38.099053</td>\n",
       "      <td>0.336141</td>\n",
       "      <td>8.549553e+06</td>\n",
       "      <td>16151.233291</td>\n",
       "      <td>0.049403</td>\n",
       "      <td>43.586911</td>\n",
       "      <td>6.889443e+07</td>\n",
       "      <td>4.102917e+05</td>\n",
       "      <td>13.615149</td>\n",
       "    </tr>\n",
       "    <tr>\n",
       "      <th>min</th>\n",
       "      <td>2.000000e+00</td>\n",
       "      <td>0.000000</td>\n",
       "      <td>0.000000</td>\n",
       "      <td>0.000000</td>\n",
       "      <td>0.000000</td>\n",
       "      <td>0.000000e+00</td>\n",
       "      <td>0.000000</td>\n",
       "      <td>0.000000</td>\n",
       "      <td>0.000000</td>\n",
       "      <td>0.000000e+00</td>\n",
       "      <td>0.000000e+00</td>\n",
       "      <td>19.440000</td>\n",
       "    </tr>\n",
       "    <tr>\n",
       "      <th>25%</th>\n",
       "      <td>3.008090e+05</td>\n",
       "      <td>544.500000</td>\n",
       "      <td>6372.250000</td>\n",
       "      <td>7.000000</td>\n",
       "      <td>0.810000</td>\n",
       "      <td>2.277153e+06</td>\n",
       "      <td>23462.000000</td>\n",
       "      <td>0.020100</td>\n",
       "      <td>11.700000</td>\n",
       "      <td>0.000000e+00</td>\n",
       "      <td>0.000000e+00</td>\n",
       "      <td>50.460000</td>\n",
       "    </tr>\n",
       "    <tr>\n",
       "      <th>50%</th>\n",
       "      <td>6.611580e+05</td>\n",
       "      <td>1358.000000</td>\n",
       "      <td>14306.000000</td>\n",
       "      <td>28.000000</td>\n",
       "      <td>0.970000</td>\n",
       "      <td>8.041254e+06</td>\n",
       "      <td>37206.000000</td>\n",
       "      <td>0.046600</td>\n",
       "      <td>19.650000</td>\n",
       "      <td>0.000000e+00</td>\n",
       "      <td>0.000000e+00</td>\n",
       "      <td>63.430000</td>\n",
       "    </tr>\n",
       "    <tr>\n",
       "      <th>75%</th>\n",
       "      <td>1.261956e+06</td>\n",
       "      <td>2933.250000</td>\n",
       "      <td>28207.750000</td>\n",
       "      <td>59.000000</td>\n",
       "      <td>1.205000</td>\n",
       "      <td>1.752028e+07</td>\n",
       "      <td>45790.000000</td>\n",
       "      <td>0.081575</td>\n",
       "      <td>46.150000</td>\n",
       "      <td>4.199700e+07</td>\n",
       "      <td>0.000000e+00</td>\n",
       "      <td>68.520000</td>\n",
       "    </tr>\n",
       "    <tr>\n",
       "      <th>max</th>\n",
       "      <td>1.527956e+06</td>\n",
       "      <td>12073.000000</td>\n",
       "      <td>30369.000000</td>\n",
       "      <td>313.000000</td>\n",
       "      <td>2.650000</td>\n",
       "      <td>2.806695e+07</td>\n",
       "      <td>68002.000000</td>\n",
       "      <td>0.256200</td>\n",
       "      <td>307.800000</td>\n",
       "      <td>2.461811e+08</td>\n",
       "      <td>2.339218e+06</td>\n",
       "      <td>96.300000</td>\n",
       "    </tr>\n",
       "  </tbody>\n",
       "</table>\n",
       "</div>"
      ],
      "text/plain": [
       "        total_cases     new_cases  total_deaths  new_deaths  \\\n",
       "count  7.960000e+02    796.000000    796.000000  796.000000   \n",
       "mean   7.422330e+05   1919.542714  15987.468593   38.152010   \n",
       "std    5.036871e+05   1771.066460  10786.743411   38.099053   \n",
       "min    2.000000e+00      0.000000      0.000000    0.000000   \n",
       "25%    3.008090e+05    544.500000   6372.250000    7.000000   \n",
       "50%    6.611580e+05   1358.000000  14306.000000   28.000000   \n",
       "75%    1.261956e+06   2933.250000  28207.750000   59.000000   \n",
       "max    1.527956e+06  12073.000000  30369.000000  313.000000   \n",
       "\n",
       "       reproduction_rate   total_tests     new_tests  positive_rate  \\\n",
       "count         791.000000  6.810000e+02    619.000000     790.000000   \n",
       "mean            1.002958  1.013747e+07  34050.303716       0.058558   \n",
       "std             0.336141  8.549553e+06  16151.233291       0.049403   \n",
       "min             0.000000  0.000000e+00      0.000000       0.000000   \n",
       "25%             0.810000  2.277153e+06  23462.000000       0.020100   \n",
       "50%             0.970000  8.041254e+06  37206.000000       0.046600   \n",
       "75%             1.205000  1.752028e+07  45790.000000       0.081575   \n",
       "max             2.650000  2.806695e+07  68002.000000       0.256200   \n",
       "\n",
       "       tests_per_case  total_vaccinations  new_vaccinations  stringency_index  \n",
       "count      790.000000        5.380000e+02      5.430000e+02        776.000000  \n",
       "mean        36.942532        3.777594e+07      1.657756e+05         61.358054  \n",
       "std         43.586911        6.889443e+07      4.102917e+05         13.615149  \n",
       "min          0.000000        0.000000e+00      0.000000e+00         19.440000  \n",
       "25%         11.700000        0.000000e+00      0.000000e+00         50.460000  \n",
       "50%         19.650000        0.000000e+00      0.000000e+00         63.430000  \n",
       "75%         46.150000        4.199700e+07      0.000000e+00         68.520000  \n",
       "max        307.800000        2.461811e+08      2.339218e+06         96.300000  "
      ]
     },
     "execution_count": 132,
     "metadata": {},
     "output_type": "execute_result"
    }
   ],
   "source": [
    "df = pd.read_csv(\"Covid_Stats.csv\")\n",
    "df.describe()"
   ]
  },
  {
   "cell_type": "markdown",
   "metadata": {},
   "source": [
    "# Analysis on above"
   ]
  },
  {
   "cell_type": "markdown",
   "metadata": {},
   "source": [
    "# Box Plot  "
   ]
  },
  {
   "cell_type": "code",
   "execution_count": 133,
   "metadata": {},
   "outputs": [
    {
     "data": {
      "image/png": "[encoded data removed]",
      "text/plain": [
       "<Figure size 1440x1080 with 1 Axes>"
      ]
     },
     "metadata": {
      "needs_background": "light"
     },
     "output_type": "display_data"
    }
   ],
   "source": [
    "col_list=[\"positive_rate\",\"reproduction_rate\"]\n",
    "df= pd.read_csv(\"Covid_Stats.csv\", usecols=col_list)\n",
    "df = df.replace('',np.nan)\n",
    "df = df.dropna(axis=\"rows\")\n",
    "plt.rcParams[\"figure.figsize\"] = [20, 15]\n",
    "plt.rcParams[\"figure.autolayout\"] = True\n",
    "df = pd.DataFrame({\"Reproduction Rate\": df['reproduction_rate'], \"Positive Rate\": df['positive_rate']})\n",
    "ax= df[['Reproduction Rate', 'Positive Rate']].plot(kind='box',fontsize=20,color='black',vert=False,sym='b+',showmeans=True,meanline=True)\n",
    "plt.show()"
   ]
  },
  {
   "cell_type": "markdown",
   "metadata": {},
   "source": [
    "# Analysis on above"
   ]
  },
  {
   "cell_type": "markdown",
   "metadata": {},
   "source": [
    "# Bar Chart"
   ]
  },
  {
   "cell_type": "code",
   "execution_count": 134,
   "metadata": {},
   "outputs": [
    {
     "data": {
      "text/plain": [
       "<matplotlib.axes._subplots.AxesSubplot at 0x23b58c0c100>"
      ]
     },
     "execution_count": 134,
     "metadata": {},
     "output_type": "execute_result"
    },
    {
     "data": {
      "image/png": "[encoded data removed]",
      "text/plain": [
       "<Figure size 1440x1080 with 1 Axes>"
      ]
     },
     "metadata": {
      "needs_background": "light"
     },
     "output_type": "display_data"
    }
   ],
   "source": [
    "names =[\"date\",\"total_vaccinations\"]\n",
    "data = pd.read_csv(\"Covid_Stats.csv\",usecols=names, parse_dates=['date'],index_col=['date'], dayfirst=True)\n",
    "\n",
    "data = data.replace('',np.nan)\n",
    "data = data.dropna(axis=\"rows\")\n",
    "\n",
    "\n",
    "spring = range(80, 172)\n",
    "summer = range(172, 264)\n",
    "fall = range(264, 355)\n",
    "\n",
    "def season(x):\n",
    "    if x in spring:\n",
    "       return 'Spring'\n",
    "    if x in summer:\n",
    "       return 'Summer'\n",
    "    if x in fall:\n",
    "       return 'Fall'\n",
    "    else :\n",
    "       return 'Winter'\n",
    "\n",
    "\n",
    "data['SEASON'] = pd.cut(\n",
    "    (data.index.dayofyear + 11) % 366,\n",
    "    [0, 91, 183, 275, 366],\n",
    "    labels=['Winter', 'Spring', 'Summer', 'Fall']\n",
    ")\n",
    "\n",
    "\n",
    "seasons = np.array(['Winter', 'Spring', 'Summer', 'Fall', 'Winter'])\n",
    "f = np.searchsorted([80, 172, 264, 355], data.index.dayofyear)\n",
    "data.groupby('SEASON')['total_vaccinations'].mean().plot.bar(fontsize=20,color='blue')"
   ]
  },
  {
   "cell_type": "markdown",
   "metadata": {},
   "source": [
    "# Analysis on above"
   ]
  },
  {
   "cell_type": "markdown",
   "metadata": {},
   "source": [
    "# Pie Chart"
   ]
  },
  {
   "cell_type": "code",
   "execution_count": 135,
   "metadata": {},
   "outputs": [
    {
     "data": {
      "text/plain": [
       "<matplotlib.legend.Legend at 0x23b4e9d6970>"
      ]
     },
     "execution_count": 135,
     "metadata": {},
     "output_type": "execute_result"
    },
    {
     "data": {
      "image/png": "[encoded data removed]",
      "text/plain": [
       "<Figure size 1440x1080 with 1 Axes>"
      ]
     },
     "metadata": {},
     "output_type": "display_data"
    }
   ],
   "source": [
    "names =[\"date\",\"total_tests\"]\n",
    "data = pd.read_csv(\"Covid_Stats.csv\",usecols=names, parse_dates=['date'],index_col=['date'], dayfirst=True)\n",
    "\n",
    "data = data.replace('',np.nan)\n",
    "data = data.dropna(axis=\"rows\")\n",
    "\n",
    "\n",
    "spring = range(80, 172)\n",
    "summer = range(172, 264)\n",
    "fall = range(264, 355)\n",
    "\n",
    "def season(x):\n",
    "    if x in spring:\n",
    "       return 'Spring'\n",
    "    if x in summer:\n",
    "       return 'Summer'\n",
    "    if x in fall:\n",
    "       return 'Fall'\n",
    "    else :\n",
    "       return 'Winter'\n",
    "\n",
    "\n",
    "data['SEASON'] = pd.cut(\n",
    "    (data.index.dayofyear + 11) % 366,\n",
    "    [0, 91, 183, 275, 366],\n",
    "    labels=['Winter', 'Spring', 'Summer', 'Fall']\n",
    ")\n",
    "Mycolors=['yellow','green','blue','red']\n",
    "\n",
    "seasons = np.array(['Winter', 'Spring', 'Summer', 'Fall', 'Winter'])\n",
    "f = np.searchsorted([80, 172, 264, 355], data.index.dayofyear)\n",
    "total=100\n",
    "data.groupby('SEASON')['total_tests'].mean().plot.pie(autopct=lambda p: '{:.0f}%'.format(p * total / 100),fontsize=20,shadow=True,startangle=90,colors=Mycolors)\n",
    "plt.legend(title = \"Total Tests\")"
   ]
  },
  {
   "cell_type": "markdown",
   "metadata": {},
   "source": [
    "# Analysis on above"
   ]
  },
  {
   "cell_type": "markdown",
   "metadata": {},
   "source": [
    "# Line Plot"
   ]
  },
  {
   "cell_type": "code",
   "execution_count": 136,
   "metadata": {},
   "outputs": [
    {
     "data": {
      "image/png": "[encoded data removed]",
      "text/plain": [
       "<Figure size 1440x1080 with 1 Axes>"
      ]
     },
     "metadata": {
      "needs_background": "light"
     },
     "output_type": "display_data"
    }
   ],
   "source": [
    "col_list=[\"total_cases\",\"stringency_index\"]\n",
    "df= pd.read_csv(\"Covid_Stats.csv\", usecols=col_list)\n",
    "df = df.replace('',np.nan)\n",
    "df = df.dropna(axis=\"rows\")\n",
    "\n",
    "\n",
    "plt.plot(df['total_cases'], df['stringency_index'], color='blue', marker='o')\n",
    "plt.title('Total Cases VS Stringency Index', fontsize=10)\n",
    "plt.xlabel('Total Cases', fontsize=10)\n",
    "plt.ylabel('Stringency Index', fontsize=10)\n",
    "plt.grid(True)\n",
    "plt.show()"
   ]
  },
  {
   "cell_type": "markdown",
   "metadata": {},
   "source": [
    "# Analysis on above"
   ]
  },
  {
   "cell_type": "markdown",
   "metadata": {},
   "source": [
    "# Histogram"
   ]
  },
  {
   "cell_type": "code",
   "execution_count": 139,
   "metadata": {},
   "outputs": [
    {
     "data": {
      "text/plain": [
       "(array([186.,  84.,  67.,  43.,  51.,  44.,  32.,  44.,  43.,  25.]),\n",
       " array([       0. ,  2692901.6,  5385803.2,  8078704.8, 10771606.4,\n",
       "        13464508. , 16157409.6, 18850311.2, 21543212.8, 24236114.4,\n",
       "        26929016. ]),\n",
       " <a list of 10 Patch objects>)"
      ]
     },
     "execution_count": 139,
     "metadata": {},
     "output_type": "execute_result"
    },
    {
     "data": {
      "image/png": "[encoded data removed]",
      "text/plain": [
       "<Figure size 1440x1080 with 1 Axes>"
      ]
     },
     "metadata": {
      "needs_background": "light"
     },
     "output_type": "display_data"
    }
   ],
   "source": [
    "col_list=[\"total_tests\",\"new_tests\"]\n",
    "df= pd.read_csv(\"Covid_Stats.csv\", usecols=col_list)\n",
    "df = df.replace('',np.nan)\n",
    "df = df.dropna(axis=\"rows\")\n",
    "\n",
    "plt.hist(df['total_tests'],color='blue')"
   ]
  },
  {
   "cell_type": "code",
   "execution_count": 140,
   "metadata": {},
   "outputs": [
    {
     "data": {
      "text/plain": [
       "(array([ 58.,  31.,  20.,  84.,  75., 102., 124.,  75.,  36.,  14.]),\n",
       " array([    0. ,  6800.2, 13600.4, 20400.6, 27200.8, 34001. , 40801.2,\n",
       "        47601.4, 54401.6, 61201.8, 68002. ]),\n",
       " <a list of 10 Patch objects>)"
      ]
     },
     "execution_count": 140,
     "metadata": {},
     "output_type": "execute_result"
    },
    {
     "data": {
      "image/png": "[encoded data removed]",
      "text/plain": [
       "<Figure size 1440x1080 with 1 Axes>"
      ]
     },
     "metadata": {
      "needs_background": "light"
     },
     "output_type": "display_data"
    }
   ],
   "source": [
    "plt.hist(df['new_tests'],color='blue')"
   ]
  },
  {
   "cell_type": "markdown",
   "metadata": {},
   "source": [
    "# Analysis on above"
   ]
  },
  {
   "cell_type": "markdown",
   "metadata": {},
   "source": [
    "# Checking if Data is Normal\n",
    "## Steps: \n",
    "### 1) Running Shapiro-Wilk Test\n",
    "### 2) Running D’Agostino’s K-squared Test\n",
    "### 3) Running Jerque Bera Test"
   ]
  },
  {
   "cell_type": "markdown",
   "metadata": {},
   "source": [
    "# Shapiro-Wilk Test\n",
    "<br>\n",
    "<font size =3>\n",
    "It is the most powerful test to check the normality of a variable. It was proposed in 1965 by <b>Samuel Sanford Shapiro</b> and <b>Martin Wilk</b>.\n",
    "<br>    \n",
    "\n",
    "**H0**: distribution of the sample is not significantly different from a normal distribution\n",
    "\n",
    "**H1**: distribution of the sample is significantly different from a normal distribution\n",
    "\n",
    "The Sharpiro-Wilk test statistics is defined as:\n",
    "\n",
    "<font size=\"6\">**$W = \\frac{(\\sum_{i=1}^{n}a_ix_{(i)})^2}{\\sum_{i=1}^{n}(x_i–\\bar{x})}$**</font>\n",
    "\n",
    "\n",
    "where **$x(i)$** is the ith smallest number in the sample **$(x1<x2<…<xn)$**; and $a_i$ are constants generated from var, cov, mean for a normally distributed sample.</font>"
   ]
  },
  {
   "cell_type": "code",
   "execution_count": null,
   "metadata": {},
   "outputs": [],
   "source": [
    "df= pd.read_csv(\"Covid_Stats.csv\")\n",
    "df = df.replace('',np.nan)\n",
    "df = df.dropna(axis=\"rows\")\n",
    "\n",
    "stat, p = shapiro(df['total_cases'])\n",
    "\n",
    "print(\"Stat = %.3f, P = %.3f\\n\" % (stat, p))\n",
    "\n",
    "if p > 0.05:\n",
    "    print(\"Probably Normal\")\n",
    "else:\n",
    "    print(\"May not be Normal\")"
   ]
  },
  {
   "cell_type": "markdown",
   "metadata": {},
   "source": [
    "# Analysis:\n",
    "<br>\n",
    "<font size =3>\n",
    "If the p-value ≤ 0.05, then we reject the null hypothesis i.e. we assume the distribution of our variable is not normal/gaussian.\n",
    "\n",
    "\n",
    "If the p-value > 0.05, then we fail to reject the null hypothesis i.e. we assume the distribution of our variable is normal/gaussian.</font>"
   ]
  },
  {
   "cell_type": "markdown",
   "metadata": {},
   "source": [
    "# D’Agostino’s K-squared Test\n",
    "\n",
    "<br>\n",
    "<font size =3>\n",
    "    \n",
    "<b>D’Agostino’s K-squared</b> test check’s normality of a variable based on skewness and kurtosis. It was named by Ralph D’Agostino.\n",
    "\n",
    "Skewness is a measure of symmetry.\n",
    "\n",
    "Kurtosis is a measure of whether the data are heavy-tailed or light-tailed relative to a normal distribution.\n",
    "\n",
    "\n",
    "The D’Agostino’s K-squared test statistics is defined as:\n",
    "\n",
    "<font size=6>**$K^{2}=Z_{1}(g_{1})^{2}+Z_{2}(g_{2})^{2}$**</font></font>"
   ]
  },
  {
   "cell_type": "code",
   "execution_count": null,
   "metadata": {},
   "outputs": [],
   "source": [
    "stat, p = normaltest(df['total_cases'])\n",
    "\n",
    "print(\"Stat = %.3f, P = %.3f\\n\" % (stat, p))\n",
    "\n",
    "if p > 0.05:\n",
    "    print(\"Probably Normal\")\n",
    "else:\n",
    "    print(\"May not be Normal\")"
   ]
  },
  {
   "cell_type": "markdown",
   "metadata": {},
   "source": [
    "# Analysis:\n",
    "<br>\n",
    "<font size =3>\n",
    "If the p-value ≤ 0.05, then we reject the null hypothesis i.e. we assume the distribution of our variable is not normal/gaussian.\n",
    "\n",
    "\n",
    "If the p-value > 0.05, then we fail to reject the null hypothesis i.e. we assume the distribution of our variable is normal/gaussian.</font>"
   ]
  },
  {
   "cell_type": "markdown",
   "metadata": {},
   "source": [
    "# Jerque Bera Test\n",
    "\n",
    "<br>\n",
    "<font size =3>\n",
    "The Jarque-Bera test tests whether the sample data has the skewness and kurtosis matching a normal distribution.\n",
    "\n",
    "NOTE: This test only works for a large enough number of data samples\n",
    "\n",
    "Its statistic is non-negative and large values signal significant deviation from normal distribution.\n",
    "\n",
    "The test statistic JB of Jarque-Bera is defined by:\n",
    "\n",
    "<font size=6>**$JB = \\frac{n}{6}×(S^2+\\frac{(K−3)}{2}^4)$**</font>\n",
    "\n",
    "where S is the sample skewness, K is the sample kurtosis, and n is the sample size.\n",
    "\n",
    "The hypotheses:\n",
    "\n",
    "**H0** : sample S and sample K is not significantly different from normal distribution.<br>\n",
    "**H1** : sample S and sample K is significantly different from normal distribution.<br><br>\n",
    "Now we can calculate the Jarque-Bera test statistic in Python and find the corresponding p-value: </font>"
   ]
  },
  {
   "cell_type": "code",
   "execution_count": null,
   "metadata": {},
   "outputs": [],
   "source": [
    "stat, p = jarque_bera(df['total_cases'])\n",
    "\n",
    "print(\"Stat = %.3f, P = %.3f\\n\" % (stat, p))\n",
    "\n",
    "if p > 0.05:\n",
    "    print(\"Probably Normal\")\n",
    "else:\n",
    "    print(\"May not be Normal\")"
   ]
  },
  {
   "cell_type": "markdown",
   "metadata": {},
   "source": [
    "# Analysis:\n",
    "<br>\n",
    "<font size =3>\n",
    "If the p-value ≤ 0.05, then we reject the null hypothesis i.e. we assume the distribution of our variable is not normal/gaussian.\n",
    "\n",
    "\n",
    "If the p-value > 0.05, then we fail to reject the null hypothesis i.e. we assume the distribution of our variable is normal/gaussian.</font>"
   ]
  },
  {
   "cell_type": "markdown",
   "metadata": {},
   "source": [
    "# Conclusion "
   ]
  },
  {
   "cell_type": "markdown",
   "metadata": {},
   "source": [
    "# Hypothesis Testing\n",
    "<br>\n",
    "<font size =3>\n",
    "<b>Hypothesis testing</b> is a scientific process used to investigate the acceptance or rejection of a proposition under consideration. Two approaches are used in statistics to verify a hypothesis:<br> \n",
    "\n",
    "- Parametric approach \n",
    "\n",
    "- Nonparametric approach. \n",
    "\n",
    "The most important aspect of the parametric approach is the satisfaction of the assumption about data’s normality, and a few tests require the equality of population variances. In most situations, the distributional assumption under a parametric test hardly satisfy, and the use of nonparametric or distribution-free tests is a common practice. However, all such nonparametric tests apply to data containing determined observations. In real life, there are various scenarios where we have non-precise data, and in such cases, the existing hypothesis testing approach based on classical test statistics cannot be implemented.</font>"
   ]
  },
  {
   "cell_type": "markdown",
   "metadata": {},
   "source": [
    "# Neutrosophic Kruskal Wallis H Test\n",
    "\n",
    "### Background:\n",
    "<br>\n",
    "<font size =3><b>Kruskal-Wallis H</b> test from the bank of classical statistics tests is a well-known <b>nonparametric</b> alternative to a one-way analysis of variance. The test is extensively used in decision-making problems where one has to compare the equality of several means when the observations are in exact form. The test is helpless when the data is in an interval form and has some indeterminacy.</font>\n",
    "\n",
    "\n",
    "### Functionality:\n",
    "<font size =3>A Kruskal-Wallis Test is used to determine whether or not there is a statistically significant difference between the medians of three or more independent groups.</font>\n",
    "\n",
    "\n",
    "### Reason behind the selection of this method:\n",
    "<br>\n",
    "<font size =3>\n",
    "The basic purpose of suggesting the Kruskal Wallis test is to scrutinize that all independent samples containing neutrosophic observations come from neutrosophic populations with equal means implying that the populations under uncertainty are identical. The proposed nonparametric test is applicable for data where the measure of uncertainty or the measure of falseness has been recorded. <br>Suppose $XN = aN + bNIN; XN ∈ [XL, XU]$ is a neutrosophic number where the first part represents the measure of determinacy and the second part represents the measure of vagueness or uncertainty. For $IN ∈ [IL, IU] = 0$, the neutrosophic number reduces to a random variable under classical statistics. The neutrosophic variable $XN$ represents the neutrosophic sample obtained from the population containing imprecise, uncertain, and indeterminate observations.</font>"
   ]
  },
  {
   "cell_type": "code",
   "execution_count": 193,
   "metadata": {},
   "outputs": [
    {
     "name": "stdout",
     "output_type": "stream",
     "text": [
      "Stat = 21.429, P = 0.000\n",
      "\n",
      "Null Hypothesis is accepted! \n"
     ]
    },
    {
     "data": {
      "image/png": "[encoded data removed]",
      "text/plain": [
       "<Figure size 1440x1080 with 1 Axes>"
      ]
     },
     "metadata": {
      "needs_background": "light"
     },
     "output_type": "display_data"
    }
   ],
   "source": [
    "names=[\"date\",\"new_cases\"]\n",
    "data = pd.read_csv(\"Covid_Stats.csv\",usecols=names, parse_dates=['date'],index_col=['date'], dayfirst=True)\n",
    "\n",
    "data = data.replace('',np.nan)\n",
    "data = data.dropna(axis=\"rows\")\n",
    "\n",
    "\n",
    "#winter dataframes\n",
    "w1 = data['25-02-2020':'29-02-2020']\n",
    "w2 = data['01-11-2020':'28-02-2021']\n",
    "w3 = data['01-11-2020':'28-02-2022']\n",
    "#summer dataframes\n",
    "su1 = data['01-05-2020':'31-08-2020']\n",
    "su2 = data['01-05-2021':'31-08-2021']\n",
    "#autumn dataframes\n",
    "a1 = data['01-09-2020':'31-10-2020']\n",
    "a2 = data['01-09-2021':'31-10-2021']\n",
    "#spring dataframes\n",
    "s1 = data['01-03-2020':'30-04-2020']\n",
    "s2 = data['01-03-2021':'30-04-2021']\n",
    "s3 = data['01-03-2022':'30-04-2022']\n",
    "\n",
    "\n",
    "Summer = [su1,su2]\n",
    "Summer = pd.concat(Summer)\n",
    "Winter = [w1,w2,w3]\n",
    "Winter = pd.concat(Winter)\n",
    "Autumn = [a1,a2]\n",
    "Autumn = pd.concat(Autumn)\n",
    "Spring = [s1,s2,s3]\n",
    "Spring = pd.concat(Spring)\n",
    "\n",
    "labels=['Summer','Winter','Autumn','Spring']\n",
    "dff= [Summer.mean(),Spring.mean(),Winter.mean(),Autumn.mean()]\n",
    "\n",
    "val=[2264.161215,2264.161215,1884.315315,2029.327839]\n",
    "plt.bar(labels,val,color='b')\n",
    "\n",
    "\n",
    "stat,p= stats.kruskal(Summer,Winter,Autumn,Spring)\n",
    "\n",
    "print(\"Stat = %.3f, P = %.3f\\n\" % (stat, p))\n",
    "\n",
    "if p > 0.5:\n",
    "    print(\"Null Hypothesis is rejected!\")\n",
    "else:\n",
    "    print(\"Null Hypothesis is accepted! \")"
   ]
  },
  {
   "cell_type": "markdown",
   "metadata": {},
   "source": [
    "# Analysis:\n",
    "\n",
    "<br><font size=3>\n",
    "Since this p-value is less than 0.05, we can reject the null hypothesis that the spread and occurence of new cases was the same in all four seasons. We have sufficient evidence to conclude that there was a vast difference in the statistical change of new covid cases.</font>"
   ]
  }
 ],
 "metadata": {
  "kernelspec": {
   "display_name": "Python 3",
   "language": "python",
   "name": "python3"
  },
  "language_info": {
   "codemirror_mode": {
    "name": "ipython",
    "version": 3
   },
   "file_extension": ".py",
   "mimetype": "text/x-python",
   "name": "python",
   "nbconvert_exporter": "python",
   "pygments_lexer": "ipython3",
   "version": "3.8.3"
  }
 },
 "nbformat": 4,
 "nbformat_minor": 4
}
